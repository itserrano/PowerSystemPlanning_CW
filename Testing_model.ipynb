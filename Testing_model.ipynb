{
 "cells": [
  {
   "cell_type": "code",
   "execution_count": 3,
   "metadata": {},
   "outputs": [],
   "source": [
    "using JuMP, HiGHS, DataFrames"
   ]
  },
  {
   "cell_type": "code",
   "execution_count": 83,
   "metadata": {},
   "outputs": [
    {
     "data": {
      "text/plain": [
       "2-element Vector{Int64}:\n",
       " 51\n",
       " 49"
      ]
     },
     "metadata": {},
     "output_type": "display_data"
    }
   ],
   "source": [
    "generator_DF = DataFrame(\n",
    "    name = [\"A\",\"B\",\"C\",\"D\",\"E\"],\n",
    "    cost = [30, 20, 40, 0, 46],\n",
    "    capacity = [20,20,60,30,5],\n",
    "    rate = [1, 0.5, 1.3, 0, 0.45],\n",
    "    zone = [1,1,2,2,1]\n",
    ")\n",
    "colnames = names(generator_DF)#filter(x -> x != \"name\", names(generator_DF))\n",
    "gen_data = Dict()\n",
    "for colname in colnames\n",
    "    gen_data[colname] = JuMP.Containers.DenseAxisArray(generator_DF[!,colname], generator_DF[!,\"name\"])\n",
    "end\n",
    "\n",
    "g_name = generator_DF.name\n",
    "demand = [51,49]"
   ]
  },
  {
   "cell_type": "code",
   "execution_count": 206,
   "metadata": {},
   "outputs": [
    {
     "name": "stdout",
     "output_type": "stream",
     "text": [
      "Running HiGHS 1.6.0: Copyright (c) 2023 HiGHS under MIT licence terms\n",
      "Presolving model\n",
      "16 rows, 15 cols, 43 nonzeros\n",
      "14 rows, 14 cols, 43 nonzeros\n",
      "Presolve : Reductions: rows 14(-13); columns 14(-6); elements 43(-15)\n",
      "Solving the presolved LP\n",
      "Using EKK dual simplex solver - serial\n",
      "  Iteration        Objective     Infeasibilities num(sum)\n",
      "          0     0.0000000000e+00 Pr: 2(100) 0s\n",
      "         10     2.2000000000e+03 Pr: 0(0) 0s\n",
      "Solving the original LP from the solution after postsolve\n",
      "Model   status      : Optimal\n",
      "Simplex   iterations: 10\n",
      "Objective value     :  2.2000000000e+03\n",
      "HiGHS run time      :          0.00\n"
     ]
    }
   ],
   "source": [
    "model = Model(HiGHS.Optimizer)\n",
    "@variables(model, begin\n",
    "    gen[g_name] >= 0\n",
    "    flow[g_name] >= 0\n",
    "    virtual_gen[g_name, zone=1:2] >= 0\n",
    "end)\n",
    "\n",
    "@constraints(model, begin\n",
    "    gen_cap[g in g_name], gen[g] <= gen_data[\"capacity\"][g]\n",
    "    gen_flow[g in g_name], flow[g] <= gen[g]\n",
    "    export_priority[g in g_name], flow[g] <= flow[\"D\"]\n",
    "    demand_balance[zone in [1,2]], sum(virtual_gen[g,zone] for g in g_name)  == demand[zone]\n",
    "    #demand_balance2, sum(gen[g] for g in g_name) == sum(demand[zone] for zone in [1,2])\n",
    "    # NO BCA; ADD GEN COST\n",
    "end)\n",
    "\n",
    "for generator in g_name\n",
    "    for zone in [1,2]\n",
    "        if gen_data[\"zone\"][generator] == zone\n",
    "            @constraint(model, virtual_gen[generator, zone] == gen[generator]-flow[generator])\n",
    "        else\n",
    "            @constraint(model, virtual_gen[generator, zone] == flow[generator])\n",
    "        end\n",
    "    end\n",
    "end\n",
    "\n",
    "@objective(model, Min, sum(gen_data[\"cost\"][g]*gen[g] for g in g_name) + sum(gen_data[\"rate\"][g]*virtual_gen[g,1]*0 for g in g_name if gen_data[\"zone\"][g] == 1))\n",
    "\n",
    "optimize!(model)"
   ]
  },
  {
   "cell_type": "code",
   "execution_count": 207,
   "metadata": {},
   "outputs": [
    {
     "data": {
      "text/plain": [
       "2-dimensional DenseAxisArray{Float64,2,...} with index sets:\n",
       "    Dimension 1, [\"A\", \"B\", \"C\", \"D\", \"E\"]\n",
       "    Dimension 2, Base.OneTo(2)\n",
       "And data, a 5×2 Matrix{Float64}:\n",
       " 20.0  -0.0\n",
       "  1.0  19.0\n",
       " -0.0  30.0\n",
       " 30.0   0.0\n",
       " -0.0  -0.0"
      ]
     },
     "metadata": {},
     "output_type": "display_data"
    }
   ],
   "source": [
    "value.(virtual_gen)"
   ]
  }
 ],
 "metadata": {
  "kernelspec": {
   "display_name": "Julia 1.10.2",
   "language": "julia",
   "name": "julia-1.10"
  },
  "language_info": {
   "file_extension": ".jl",
   "mimetype": "application/julia",
   "name": "julia",
   "version": "1.10.2"
  }
 },
 "nbformat": 4,
 "nbformat_minor": 2
}
