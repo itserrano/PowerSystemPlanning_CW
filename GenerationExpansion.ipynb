{
 "cells": [
  {
   "cell_type": "code",
   "execution_count": 21,
   "metadata": {},
   "outputs": [
    {
     "data": {
      "text/plain": [
       "120"
      ]
     },
     "metadata": {},
     "output_type": "display_data"
    }
   ],
   "source": [
    "using DataFrames, CSV, Plots, JuMP, GLPK, Statistics, StatsPlots,Gurobi\n",
    "import Dates\n",
    "ENV[\"ROWS\"]=120"
   ]
  },
  {
   "cell_type": "markdown",
   "metadata": {},
   "source": [
    "### TMY Calculation"
   ]
  },
  {
   "cell_type": "code",
   "execution_count": 22,
   "metadata": {},
   "outputs": [],
   "source": [
    "timeseries = CSV.read(\"Data/time_series_60min_singleindex.csv\", DataFrame)\n",
    "columns = names(timeseries)\n",
    "to_keep = columns[occursin.(\"GB\",columns) .& occursin.(\"profile\",columns) .& (occursin.(\"wind\",columns) .| occursin.(\"solar\",columns))]\n",
    "to_keep_ts = vcat(columns[1], to_keep)\n",
    "\n",
    "timeseries = timeseries[!,to_keep_ts]\n",
    "CSV.write(\"Data/timeseries_uk_erv.csv\", timeseries)\n",
    "\n",
    "#We'll create a TMY with the Solar data, Onshore wind data and offshore data\n",
    "timeseries[!,\"timestamp\"] = Dates.DateTime.(timeseries[!,\"utc_timestamp\"],\"yyyy-mm-ddTHH:MM:SSZ\");\n",
    "# We filter the data so we don't have missing values anywhere\n",
    "timeseries_dict = Dict()\n",
    "#for column in to_keep\n",
    "#    timeseries_dict[column] = timeseries[.!ismissing.(timeseries[!,column]),[\"timestamp\",column]]\n",
    "#end\n",
    "for column in to_keep\n",
    "    timeseries_dict[column] = timeseries[!,[\"timestamp\",column]]\n",
    "    #timeseries_dict[column] = timeseries_dict[column][.!ismissing.(timeseries_dict[column][!,column]),:]\n",
    "end\n",
    "\n",
    "# From each date, we save the year, month, day and hour, as the data is hourly\n",
    "for column in to_keep\n",
    "    timeseries_dict[column][!,\"year\"] = Dates.year.(timeseries_dict[column][!,\"timestamp\"])\n",
    "    timeseries_dict[column][!,\"month\"] = Dates.month.(timeseries_dict[column][!,\"timestamp\"])\n",
    "    timeseries_dict[column][!,\"day\"] = Dates.day.(timeseries_dict[column][!,\"timestamp\"])\n",
    "    timeseries_dict[column][!,\"hour\"] = Dates.hour.(timeseries_dict[column][!,\"timestamp\"])\n",
    "    timeseries_dict[column][!,\"missing\"] = ismissing.(timeseries_dict[column][!,column])\n",
    "end\n",
    "\n",
    "long_term_data = Dict()\n",
    "long_term_year = Dict()\n",
    "# Now, we group by month and day so we can get the average capacity factor\n",
    "for element in timeseries_dict\n",
    "    name, df = element\n",
    "    df = element[2];\n",
    "    gdf = groupby(df, [:month, :year])\n",
    "    gdf = combine(gdf, name .=> mean => name)\n",
    "    long_term_data[name] = gdf\n",
    "\n",
    "    df = gdf;\n",
    "    gdf = groupby(df, :month)\n",
    "    gdf = combine(gdf, name .=> mean => name)\n",
    "    long_term_year[name] = gdf\n",
    "end\n",
    "\n",
    "#upper, lower = max(long_term_data[\"GB_GBN_solar_profile\"][!,:year]...),min(long_term_data[\"GB_GBN_solar_profile\"][!,:year]...)\n",
    "#upper, lower = 2018, 2015\n",
    "#years = upper-lower;\n"
   ]
  },
  {
   "cell_type": "code",
   "execution_count": 23,
   "metadata": {},
   "outputs": [
    {
     "data": {
      "text/html": [
       "<div><div style = \"float: left;\"><span>50401×7 DataFrame</span></div><div style = \"float: right;\"><span style = \"font-style: italic;\">50376 rows omitted</span></div><div style = \"clear: both;\"></div></div><div class = \"data-frame\" style = \"overflow-x: scroll;\"><table class = \"data-frame\" style = \"margin-bottom: 6px;\"><thead><tr class = \"header\"><th class = \"rowNumber\" style = \"font-weight: bold; text-align: right;\">Row</th><th style = \"text-align: left;\">timestamp</th><th style = \"text-align: left;\">GB_GBN_solar_profile</th><th style = \"text-align: left;\">year</th><th style = \"text-align: left;\">month</th><th style = \"text-align: left;\">day</th><th style = \"text-align: left;\">hour</th><th style = \"text-align: left;\">missing</th></tr><tr class = \"subheader headerLastRow\"><th class = \"rowNumber\" style = \"font-weight: bold; text-align: right;\"></th><th title = \"Dates.DateTime\" style = \"text-align: left;\">DateTime</th><th title = \"Union{Missing, Float64}\" style = \"text-align: left;\">Float64?</th><th title = \"Int64\" style = \"text-align: left;\">Int64</th><th title = \"Int64\" style = \"text-align: left;\">Int64</th><th title = \"Int64\" style = \"text-align: left;\">Int64</th><th title = \"Int64\" style = \"text-align: left;\">Int64</th><th title = \"Bool\" style = \"text-align: left;\">Bool</th></tr></thead><tbody><tr><td class = \"rowNumber\" style = \"font-weight: bold; text-align: right;\">1</td><td style = \"text-align: left;\">2014-12-31T23:00:00</td><td style = \"font-style: italic; text-align: right;\">missing</td><td style = \"text-align: right;\">2014</td><td style = \"text-align: right;\">12</td><td style = \"text-align: right;\">31</td><td style = \"text-align: right;\">23</td><td style = \"text-align: right;\">true</td></tr><tr><td class = \"rowNumber\" style = \"font-weight: bold; text-align: right;\">2</td><td style = \"text-align: left;\">2015-01-01T00:00:00</td><td style = \"font-style: italic; text-align: right;\">missing</td><td style = \"text-align: right;\">2015</td><td style = \"text-align: right;\">1</td><td style = \"text-align: right;\">1</td><td style = \"text-align: right;\">0</td><td style = \"text-align: right;\">true</td></tr><tr><td class = \"rowNumber\" style = \"font-weight: bold; text-align: right;\">3</td><td style = \"text-align: left;\">2015-01-01T01:00:00</td><td style = \"font-style: italic; text-align: right;\">missing</td><td style = \"text-align: right;\">2015</td><td style = \"text-align: right;\">1</td><td style = \"text-align: right;\">1</td><td style = \"text-align: right;\">1</td><td style = \"text-align: right;\">true</td></tr><tr><td class = \"rowNumber\" style = \"font-weight: bold; text-align: right;\">4</td><td style = \"text-align: left;\">2015-01-01T02:00:00</td><td style = \"font-style: italic; text-align: right;\">missing</td><td style = \"text-align: right;\">2015</td><td style = \"text-align: right;\">1</td><td style = \"text-align: right;\">1</td><td style = \"text-align: right;\">2</td><td style = \"text-align: right;\">true</td></tr><tr><td class = \"rowNumber\" style = \"font-weight: bold; text-align: right;\">5</td><td style = \"text-align: left;\">2015-01-01T03:00:00</td><td style = \"font-style: italic; text-align: right;\">missing</td><td style = \"text-align: right;\">2015</td><td style = \"text-align: right;\">1</td><td style = \"text-align: right;\">1</td><td style = \"text-align: right;\">3</td><td style = \"text-align: right;\">true</td></tr><tr><td class = \"rowNumber\" style = \"font-weight: bold; text-align: right;\">6</td><td style = \"text-align: left;\">2015-01-01T04:00:00</td><td style = \"font-style: italic; text-align: right;\">missing</td><td style = \"text-align: right;\">2015</td><td style = \"text-align: right;\">1</td><td style = \"text-align: right;\">1</td><td style = \"text-align: right;\">4</td><td style = \"text-align: right;\">true</td></tr><tr><td class = \"rowNumber\" style = \"font-weight: bold; text-align: right;\">7</td><td style = \"text-align: left;\">2015-01-01T05:00:00</td><td style = \"font-style: italic; text-align: right;\">missing</td><td style = \"text-align: right;\">2015</td><td style = \"text-align: right;\">1</td><td style = \"text-align: right;\">1</td><td style = \"text-align: right;\">5</td><td style = \"text-align: right;\">true</td></tr><tr><td class = \"rowNumber\" style = \"font-weight: bold; text-align: right;\">8</td><td style = \"text-align: left;\">2015-01-01T06:00:00</td><td style = \"font-style: italic; text-align: right;\">missing</td><td style = \"text-align: right;\">2015</td><td style = \"text-align: right;\">1</td><td style = \"text-align: right;\">1</td><td style = \"text-align: right;\">6</td><td style = \"text-align: right;\">true</td></tr><tr><td class = \"rowNumber\" style = \"font-weight: bold; text-align: right;\">9</td><td style = \"text-align: left;\">2015-01-01T07:00:00</td><td style = \"font-style: italic; text-align: right;\">missing</td><td style = \"text-align: right;\">2015</td><td style = \"text-align: right;\">1</td><td style = \"text-align: right;\">1</td><td style = \"text-align: right;\">7</td><td style = \"text-align: right;\">true</td></tr><tr><td class = \"rowNumber\" style = \"font-weight: bold; text-align: right;\">10</td><td style = \"text-align: left;\">2015-01-01T08:00:00</td><td style = \"font-style: italic; text-align: right;\">missing</td><td style = \"text-align: right;\">2015</td><td style = \"text-align: right;\">1</td><td style = \"text-align: right;\">1</td><td style = \"text-align: right;\">8</td><td style = \"text-align: right;\">true</td></tr><tr><td class = \"rowNumber\" style = \"font-weight: bold; text-align: right;\">11</td><td style = \"text-align: left;\">2015-01-01T09:00:00</td><td style = \"text-align: right;\">0.0049</td><td style = \"text-align: right;\">2015</td><td style = \"text-align: right;\">1</td><td style = \"text-align: right;\">1</td><td style = \"text-align: right;\">9</td><td style = \"text-align: right;\">false</td></tr><tr><td class = \"rowNumber\" style = \"font-weight: bold; text-align: right;\">12</td><td style = \"text-align: left;\">2015-01-01T10:00:00</td><td style = \"text-align: right;\">0.0236</td><td style = \"text-align: right;\">2015</td><td style = \"text-align: right;\">1</td><td style = \"text-align: right;\">1</td><td style = \"text-align: right;\">10</td><td style = \"text-align: right;\">false</td></tr><tr><td class = \"rowNumber\" style = \"font-weight: bold; text-align: right;\">13</td><td style = \"text-align: left;\">2015-01-01T11:00:00</td><td style = \"text-align: right;\">0.0202</td><td style = \"text-align: right;\">2015</td><td style = \"text-align: right;\">1</td><td style = \"text-align: right;\">1</td><td style = \"text-align: right;\">11</td><td style = \"text-align: right;\">false</td></tr><tr><td style = \"text-align: right;\">&vellip;</td><td style = \"text-align: right;\">&vellip;</td><td style = \"text-align: right;\">&vellip;</td><td style = \"text-align: right;\">&vellip;</td><td style = \"text-align: right;\">&vellip;</td><td style = \"text-align: right;\">&vellip;</td><td style = \"text-align: right;\">&vellip;</td><td style = \"text-align: right;\">&vellip;</td></tr><tr><td class = \"rowNumber\" style = \"font-weight: bold; text-align: right;\">50390</td><td style = \"text-align: left;\">2020-09-30T12:00:00</td><td style = \"font-style: italic; text-align: right;\">missing</td><td style = \"text-align: right;\">2020</td><td style = \"text-align: right;\">9</td><td style = \"text-align: right;\">30</td><td style = \"text-align: right;\">12</td><td style = \"text-align: right;\">true</td></tr><tr><td class = \"rowNumber\" style = \"font-weight: bold; text-align: right;\">50391</td><td style = \"text-align: left;\">2020-09-30T13:00:00</td><td style = \"font-style: italic; text-align: right;\">missing</td><td style = \"text-align: right;\">2020</td><td style = \"text-align: right;\">9</td><td style = \"text-align: right;\">30</td><td style = \"text-align: right;\">13</td><td style = \"text-align: right;\">true</td></tr><tr><td class = \"rowNumber\" style = \"font-weight: bold; text-align: right;\">50392</td><td style = \"text-align: left;\">2020-09-30T14:00:00</td><td style = \"font-style: italic; text-align: right;\">missing</td><td style = \"text-align: right;\">2020</td><td style = \"text-align: right;\">9</td><td style = \"text-align: right;\">30</td><td style = \"text-align: right;\">14</td><td style = \"text-align: right;\">true</td></tr><tr><td class = \"rowNumber\" style = \"font-weight: bold; text-align: right;\">50393</td><td style = \"text-align: left;\">2020-09-30T15:00:00</td><td style = \"font-style: italic; text-align: right;\">missing</td><td style = \"text-align: right;\">2020</td><td style = \"text-align: right;\">9</td><td style = \"text-align: right;\">30</td><td style = \"text-align: right;\">15</td><td style = \"text-align: right;\">true</td></tr><tr><td class = \"rowNumber\" style = \"font-weight: bold; text-align: right;\">50394</td><td style = \"text-align: left;\">2020-09-30T16:00:00</td><td style = \"font-style: italic; text-align: right;\">missing</td><td style = \"text-align: right;\">2020</td><td style = \"text-align: right;\">9</td><td style = \"text-align: right;\">30</td><td style = \"text-align: right;\">16</td><td style = \"text-align: right;\">true</td></tr><tr><td class = \"rowNumber\" style = \"font-weight: bold; text-align: right;\">50395</td><td style = \"text-align: left;\">2020-09-30T17:00:00</td><td style = \"font-style: italic; text-align: right;\">missing</td><td style = \"text-align: right;\">2020</td><td style = \"text-align: right;\">9</td><td style = \"text-align: right;\">30</td><td style = \"text-align: right;\">17</td><td style = \"text-align: right;\">true</td></tr><tr><td class = \"rowNumber\" style = \"font-weight: bold; text-align: right;\">50396</td><td style = \"text-align: left;\">2020-09-30T18:00:00</td><td style = \"font-style: italic; text-align: right;\">missing</td><td style = \"text-align: right;\">2020</td><td style = \"text-align: right;\">9</td><td style = \"text-align: right;\">30</td><td style = \"text-align: right;\">18</td><td style = \"text-align: right;\">true</td></tr><tr><td class = \"rowNumber\" style = \"font-weight: bold; text-align: right;\">50397</td><td style = \"text-align: left;\">2020-09-30T19:00:00</td><td style = \"font-style: italic; text-align: right;\">missing</td><td style = \"text-align: right;\">2020</td><td style = \"text-align: right;\">9</td><td style = \"text-align: right;\">30</td><td style = \"text-align: right;\">19</td><td style = \"text-align: right;\">true</td></tr><tr><td class = \"rowNumber\" style = \"font-weight: bold; text-align: right;\">50398</td><td style = \"text-align: left;\">2020-09-30T20:00:00</td><td style = \"font-style: italic; text-align: right;\">missing</td><td style = \"text-align: right;\">2020</td><td style = \"text-align: right;\">9</td><td style = \"text-align: right;\">30</td><td style = \"text-align: right;\">20</td><td style = \"text-align: right;\">true</td></tr><tr><td class = \"rowNumber\" style = \"font-weight: bold; text-align: right;\">50399</td><td style = \"text-align: left;\">2020-09-30T21:00:00</td><td style = \"font-style: italic; text-align: right;\">missing</td><td style = \"text-align: right;\">2020</td><td style = \"text-align: right;\">9</td><td style = \"text-align: right;\">30</td><td style = \"text-align: right;\">21</td><td style = \"text-align: right;\">true</td></tr><tr><td class = \"rowNumber\" style = \"font-weight: bold; text-align: right;\">50400</td><td style = \"text-align: left;\">2020-09-30T22:00:00</td><td style = \"font-style: italic; text-align: right;\">missing</td><td style = \"text-align: right;\">2020</td><td style = \"text-align: right;\">9</td><td style = \"text-align: right;\">30</td><td style = \"text-align: right;\">22</td><td style = \"text-align: right;\">true</td></tr><tr><td class = \"rowNumber\" style = \"font-weight: bold; text-align: right;\">50401</td><td style = \"text-align: left;\">2020-09-30T23:00:00</td><td style = \"font-style: italic; text-align: right;\">missing</td><td style = \"text-align: right;\">2020</td><td style = \"text-align: right;\">9</td><td style = \"text-align: right;\">30</td><td style = \"text-align: right;\">23</td><td style = \"text-align: right;\">true</td></tr></tbody></table></div>"
      ],
      "text/latex": [
       "\\begin{tabular}{r|ccccccc}\n",
       "\t& timestamp & GB\\_GBN\\_solar\\_profile & year & month & day & hour & missing\\\\\n",
       "\t\\hline\n",
       "\t& DateTime & Float64? & Int64 & Int64 & Int64 & Int64 & Bool\\\\\n",
       "\t\\hline\n",
       "\t1 & 2014-12-31T23:00:00 & \\emph{missing} & 2014 & 12 & 31 & 23 & 1 \\\\\n",
       "\t2 & 2015-01-01T00:00:00 & \\emph{missing} & 2015 & 1 & 1 & 0 & 1 \\\\\n",
       "\t3 & 2015-01-01T01:00:00 & \\emph{missing} & 2015 & 1 & 1 & 1 & 1 \\\\\n",
       "\t4 & 2015-01-01T02:00:00 & \\emph{missing} & 2015 & 1 & 1 & 2 & 1 \\\\\n",
       "\t5 & 2015-01-01T03:00:00 & \\emph{missing} & 2015 & 1 & 1 & 3 & 1 \\\\\n",
       "\t6 & 2015-01-01T04:00:00 & \\emph{missing} & 2015 & 1 & 1 & 4 & 1 \\\\\n",
       "\t7 & 2015-01-01T05:00:00 & \\emph{missing} & 2015 & 1 & 1 & 5 & 1 \\\\\n",
       "\t8 & 2015-01-01T06:00:00 & \\emph{missing} & 2015 & 1 & 1 & 6 & 1 \\\\\n",
       "\t9 & 2015-01-01T07:00:00 & \\emph{missing} & 2015 & 1 & 1 & 7 & 1 \\\\\n",
       "\t10 & 2015-01-01T08:00:00 & \\emph{missing} & 2015 & 1 & 1 & 8 & 1 \\\\\n",
       "\t11 & 2015-01-01T09:00:00 & 0.0049 & 2015 & 1 & 1 & 9 & 0 \\\\\n",
       "\t12 & 2015-01-01T10:00:00 & 0.0236 & 2015 & 1 & 1 & 10 & 0 \\\\\n",
       "\t13 & 2015-01-01T11:00:00 & 0.0202 & 2015 & 1 & 1 & 11 & 0 \\\\\n",
       "\t14 & 2015-01-01T12:00:00 & 0.017 & 2015 & 1 & 1 & 12 & 0 \\\\\n",
       "\t15 & 2015-01-01T13:00:00 & 0.0138 & 2015 & 1 & 1 & 13 & 0 \\\\\n",
       "\t16 & 2015-01-01T14:00:00 & 0.0105 & 2015 & 1 & 1 & 14 & 0 \\\\\n",
       "\t17 & 2015-01-01T15:00:00 & 0.0346 & 2015 & 1 & 1 & 15 & 0 \\\\\n",
       "\t18 & 2015-01-01T16:00:00 & 0.0193 & 2015 & 1 & 1 & 16 & 0 \\\\\n",
       "\t19 & 2015-01-01T17:00:00 & 0.0 & 2015 & 1 & 1 & 17 & 0 \\\\\n",
       "\t20 & 2015-01-01T18:00:00 & 0.0 & 2015 & 1 & 1 & 18 & 0 \\\\\n",
       "\t21 & 2015-01-01T19:00:00 & 0.0 & 2015 & 1 & 1 & 19 & 0 \\\\\n",
       "\t22 & 2015-01-01T20:00:00 & 0.0 & 2015 & 1 & 1 & 20 & 0 \\\\\n",
       "\t23 & 2015-01-01T21:00:00 & 0.0 & 2015 & 1 & 1 & 21 & 0 \\\\\n",
       "\t24 & 2015-01-01T22:00:00 & 0.0 & 2015 & 1 & 1 & 22 & 0 \\\\\n",
       "\t$\\dots$ & $\\dots$ & $\\dots$ & $\\dots$ & $\\dots$ & $\\dots$ & $\\dots$ & $\\dots$ \\\\\n",
       "\\end{tabular}\n"
      ],
      "text/plain": [
       "\u001b[1m50401×7 DataFrame\u001b[0m\n",
       "\u001b[1m   Row \u001b[0m│\u001b[1m timestamp           \u001b[0m\u001b[1m GB_GBN_solar_profile \u001b[0m\u001b[1m year  \u001b[0m\u001b[1m month \u001b[0m\u001b[1m day   \u001b[0m\u001b[1m hour \u001b[0m ⋯\n",
       "       │\u001b[90m DateTime            \u001b[0m\u001b[90m Float64?             \u001b[0m\u001b[90m Int64 \u001b[0m\u001b[90m Int64 \u001b[0m\u001b[90m Int64 \u001b[0m\u001b[90m Int64\u001b[0m ⋯\n",
       "───────┼────────────────────────────────────────────────────────────────────────\n",
       "     1 │ 2014-12-31T23:00:00 \u001b[90m         missing      \u001b[0m  2014     12     31     23 ⋯\n",
       "     2 │ 2015-01-01T00:00:00 \u001b[90m         missing      \u001b[0m  2015      1      1      0\n",
       "     3 │ 2015-01-01T01:00:00 \u001b[90m         missing      \u001b[0m  2015      1      1      1\n",
       "     4 │ 2015-01-01T02:00:00 \u001b[90m         missing      \u001b[0m  2015      1      1      2\n",
       "     5 │ 2015-01-01T03:00:00 \u001b[90m         missing      \u001b[0m  2015      1      1      3 ⋯\n",
       "     6 │ 2015-01-01T04:00:00 \u001b[90m         missing      \u001b[0m  2015      1      1      4\n",
       "     7 │ 2015-01-01T05:00:00 \u001b[90m         missing      \u001b[0m  2015      1      1      5\n",
       "     8 │ 2015-01-01T06:00:00 \u001b[90m         missing      \u001b[0m  2015      1      1      6\n",
       "   ⋮   │          ⋮                    ⋮              ⋮      ⋮      ⋮      ⋮   ⋱\n",
       " 50395 │ 2020-09-30T17:00:00 \u001b[90m         missing      \u001b[0m  2020      9     30     17 ⋯\n",
       " 50396 │ 2020-09-30T18:00:00 \u001b[90m         missing      \u001b[0m  2020      9     30     18\n",
       " 50397 │ 2020-09-30T19:00:00 \u001b[90m         missing      \u001b[0m  2020      9     30     19\n",
       " 50398 │ 2020-09-30T20:00:00 \u001b[90m         missing      \u001b[0m  2020      9     30     20\n",
       " 50399 │ 2020-09-30T21:00:00 \u001b[90m         missing      \u001b[0m  2020      9     30     21 ⋯\n",
       " 50400 │ 2020-09-30T22:00:00 \u001b[90m         missing      \u001b[0m  2020      9     30     22\n",
       " 50401 │ 2020-09-30T23:00:00 \u001b[90m         missing      \u001b[0m  2020      9     30     23\n",
       "\u001b[36m                                                 1 column and 50386 rows omitted\u001b[0m"
      ]
     },
     "metadata": {},
     "output_type": "display_data"
    }
   ],
   "source": [
    "u = timeseries_dict[\"GB_GBN_solar_profile\"]"
   ]
  },
  {
   "cell_type": "code",
   "execution_count": 24,
   "metadata": {},
   "outputs": [],
   "source": [
    "monthly_avg = Dict()\n",
    "for element in timeseries_dict\n",
    "    name, df = element\n",
    "    avgs = []\n",
    "    valid_years_list =[]\n",
    "    for k in 1:12\n",
    "        # Determine month with missing data\n",
    "        monthly_df = groupby(df[df.month.==k,:],:year)\n",
    "        monthly_df = combine(monthly_df, \"missing\" .=> sum => \"missing\")\n",
    "        valid_years = monthly_df[monthly_df[!,\"missing\"] .== 0,:year]\n",
    "        avg = mean(df[(df.month.==k) .& (df.year .∈ Ref(valid_years)),name])\n",
    "        push!(avgs,avg)\n",
    "        push!(valid_years_list,valid_years)\n",
    "    end\n",
    "    monthly_avg[name] = avgs\n",
    "    monthly_avg[name*\"_years\"] = valid_years_list\n",
    "end\n",
    "\n",
    "avg_data = Dict()\n",
    "for element in timeseries_dict\n",
    "    name, df = element\n",
    "    avg_matrix = []\n",
    "    for k in 1:12\n",
    "        monthly_df = groupby(df[df.month.==k,:],:year)\n",
    "        monthly_df = combine(monthly_df, \"missing\" .=> sum => \"missing\")\n",
    "        valid_years = monthly_df[monthly_df[!,\"missing\"] .== 0,:year]\n",
    "        yearly_means = []\n",
    "        for j in valid_years\n",
    "            yearly_mean = mean(df[(df.month.==k) .& (df.year.==j),name])\n",
    "            push!(yearly_means,yearly_mean)\n",
    "        end\n",
    "        push!(avg_matrix,yearly_means)\n",
    "    end\n",
    "    avg_data[name] = avg_matrix\n",
    "end\n"
   ]
  },
  {
   "cell_type": "code",
   "execution_count": 25,
   "metadata": {},
   "outputs": [
    {
     "data": {
      "text/plain": [
       "12-element Vector{Any}:\n",
       " [2016, 2017, 2018, 2019]\n",
       " [2015, 2016, 2017, 2018, 2019]\n",
       " [2015, 2016, 2018, 2019]\n",
       " [2015, 2016, 2017, 2018, 2019]\n",
       " [2016, 2017, 2018, 2019]\n",
       " [2015, 2016, 2017, 2018, 2019]\n",
       " [2015, 2016, 2017, 2018, 2019]\n",
       " [2015, 2016, 2018, 2019]\n",
       " [2015, 2016, 2018, 2019]\n",
       " [2015, 2016, 2017, 2018, 2019]\n",
       " [2015, 2016, 2018, 2019]\n",
       " [2015, 2016, 2017, 2018]"
      ]
     },
     "metadata": {},
     "output_type": "display_data"
    }
   ],
   "source": [
    "monthly_avg[\"GB_GBN_solar_profile_years\"]"
   ]
  },
  {
   "cell_type": "code",
   "execution_count": 26,
   "metadata": {},
   "outputs": [],
   "source": [
    "TMYS = Dict()\n",
    "for element in avg_data\n",
    "    name, matrix = element\n",
    "    best_value = monthly_avg[name]\n",
    "    df = timeseries_dict[name][!,[name, \"month\", \"year\",\"day\",\"hour\"]]\n",
    "    TMY = DataFrame([[],[],[],[],[]], [name,\"year\",\"month\",\"day\",\"hour\"])\n",
    "    best_years = []\n",
    "    years_lookup = monthly_avg[name*\"_years\"]\n",
    "    for k in 1:12\n",
    "        error = abs.(matrix[k].-best_value[k])\n",
    "        best_year_index = findall(x->x==min(error...), error)\n",
    "        best_year = years_lookup[k][best_year_index[1]]\n",
    "        best_year_df = df[(df.month.==k) .& (df.year.==best_year),[name,\"year\",\"month\",\"day\",\"hour\"]]\n",
    "        TMY = vcat(TMY,best_year_df)\n",
    "        push!(best_years,best_year)\n",
    "    end\n",
    "    # Set every timestamp to 2023\n",
    "    TMY[!,\"timestamp\"] = Dates.DateTime.(\"2023\".*\"-\".*string.(TMY[!,\"month\"]).*\"-\".*string.(TMY[!,\"day\"]).*\"T\".*string.(TMY[!,\"hour\"]).*\":00:00\",\"yyyy-mm-ddTHH:MM:SS\");\n",
    "    TMYS[name] = TMY[!,[\"timestamp\",name,\"month\"]]\n",
    "    #CSV.write(\"TMY_\"*name*\".csv\", TMY)\n",
    "end\n",
    "\n"
   ]
  },
  {
   "cell_type": "code",
   "execution_count": 27,
   "metadata": {},
   "outputs": [
    {
     "data": {
      "text/plain": [
       "\"Data/TMY_uk_erv.csv\""
      ]
     },
     "metadata": {},
     "output_type": "display_data"
    }
   ],
   "source": [
    "toCSVdict = []\n",
    "for element in TMYS\n",
    "    name, df = element\n",
    "    push!(toCSVdict,df[!,[\"timestamp\",name]])\n",
    "end\n",
    "\n",
    "innerjoin(toCSVdict..., on=:timestamp) |> CSV.write(\"Data/TMY_uk_erv.csv\")"
   ]
  },
  {
   "cell_type": "code",
   "execution_count": 28,
   "metadata": {},
   "outputs": [
    {
     "ename": "UndefVarError",
     "evalue": "UndefVarError: `lower` not defined",
     "output_type": "error",
     "traceback": [
      "UndefVarError: `lower` not defined\n",
      "\n",
      "Stacktrace:\n",
      " [1] top-level scope\n",
      "   @ c:\\Users\\nacho\\Desktop\\Imperial College\\Spring Term\\Power System Planning\\PowerSystemPlanning_CW\\GenerationExpansion.ipynb:11"
     ]
    }
   ],
   "source": [
    "plots = []\n",
    "for element in long_term_year\n",
    "    name, df = element\n",
    "    df_tmy = TMYS[name]\n",
    "    df_raw = timeseries_dict[name]\n",
    "    df_tmy = groupby(df_tmy, :month)\n",
    "    df_tmy = combine(df_tmy, name .=> mean => name)\n",
    "    display_parts = titlecase.(split(name,\"_\"));\n",
    "    display_name = join(display_parts[3:end],\" \");\n",
    "    plot(df[!,:month],df[!,name],label=\"Long Term\",color=\"orange\",legend=:topleft, title=display_name)\n",
    "    for k in lower:upper\n",
    "        df_year = df_raw[df_raw.year.==k,:]\n",
    "        df_year = groupby(df_year, :month)\n",
    "        df_year = combine(df_year, name .=> mean => name)\n",
    "        plot!(df_year[!,:month],df_year[!,name],label=\"\", color=\"blue\", alpha=0.25)\n",
    "    end\n",
    "    p=plot!(df_tmy[!,:month],df_tmy[!,name],label=\"TMY\", color=\"green\")\n",
    "    push!(plots,p)\n",
    "end\n",
    "plot(plots..., layout=(4,1), size=(1000,1000), yformatter=y->string(trunc(Int,100*y))*\"%\", show=true)\n",
    "xticks!(1:12,[\"Jan\",\"Feb\",\"Mar\",\"Apr\",\"May\",\"Jun\",\"Jul\",\"Aug\",\"Sep\",\"Oct\",\"Nov\",\"Dec\"])\n",
    "#savefig(\"Results/TMY_comparison.png\")"
   ]
  },
  {
   "cell_type": "code",
   "execution_count": 29,
   "metadata": {},
   "outputs": [
    {
     "data": {
      "text/html": [
       "<p><b>GroupedDataFrame with 12 groups based on key: month</b></p><div><div style = \"float: left;\"><span>First Group (744 rows): month = 1</span></div><div style = \"float: right;\"><span style = \"font-style: italic;\">719 rows omitted</span></div><div style = \"clear: both;\"></div></div><div class = \"data-frame\" style = \"overflow-x: scroll;\"><table class = \"data-frame\" style = \"margin-bottom: 6px;\"><thead><tr class = \"header\"><th class = \"rowNumber\" style = \"font-weight: bold; text-align: right;\">Row</th><th style = \"text-align: left;\">timestamp</th><th style = \"text-align: left;\">GB_GBN_solar_profile</th><th style = \"text-align: left;\">month</th></tr><tr class = \"subheader headerLastRow\"><th class = \"rowNumber\" style = \"font-weight: bold; text-align: right;\"></th><th title = \"Dates.DateTime\" style = \"text-align: left;\">DateTime</th><th title = \"Any\" style = \"text-align: left;\">Any</th><th title = \"Any\" style = \"text-align: left;\">Any</th></tr></thead><tbody><tr><td class = \"rowNumber\" style = \"font-weight: bold; text-align: right;\">1</td><td style = \"text-align: left;\">2023-01-01T00:00:00</td><td style = \"text-align: left;\">0.0</td><td style = \"text-align: left;\">1</td></tr><tr><td class = \"rowNumber\" style = \"font-weight: bold; text-align: right;\">2</td><td style = \"text-align: left;\">2023-01-01T01:00:00</td><td style = \"text-align: left;\">0.0</td><td style = \"text-align: left;\">1</td></tr><tr><td class = \"rowNumber\" style = \"font-weight: bold; text-align: right;\">3</td><td style = \"text-align: left;\">2023-01-01T02:00:00</td><td style = \"text-align: left;\">0.0</td><td style = \"text-align: left;\">1</td></tr><tr><td class = \"rowNumber\" style = \"font-weight: bold; text-align: right;\">4</td><td style = \"text-align: left;\">2023-01-01T03:00:00</td><td style = \"text-align: left;\">0.0</td><td style = \"text-align: left;\">1</td></tr><tr><td class = \"rowNumber\" style = \"font-weight: bold; text-align: right;\">5</td><td style = \"text-align: left;\">2023-01-01T04:00:00</td><td style = \"text-align: left;\">0.0</td><td style = \"text-align: left;\">1</td></tr><tr><td class = \"rowNumber\" style = \"font-weight: bold; text-align: right;\">6</td><td style = \"text-align: left;\">2023-01-01T05:00:00</td><td style = \"text-align: left;\">0.0</td><td style = \"text-align: left;\">1</td></tr><tr><td class = \"rowNumber\" style = \"font-weight: bold; text-align: right;\">7</td><td style = \"text-align: left;\">2023-01-01T06:00:00</td><td style = \"text-align: left;\">0.0</td><td style = \"text-align: left;\">1</td></tr><tr><td class = \"rowNumber\" style = \"font-weight: bold; text-align: right;\">8</td><td style = \"text-align: left;\">2023-01-01T07:00:00</td><td style = \"text-align: left;\">0.0</td><td style = \"text-align: left;\">1</td></tr><tr><td class = \"rowNumber\" style = \"font-weight: bold; text-align: right;\">9</td><td style = \"text-align: left;\">2023-01-01T08:00:00</td><td style = \"text-align: left;\">0.0067</td><td style = \"text-align: left;\">1</td></tr><tr><td class = \"rowNumber\" style = \"font-weight: bold; text-align: right;\">10</td><td style = \"text-align: left;\">2023-01-01T09:00:00</td><td style = \"text-align: left;\">0.0638</td><td style = \"text-align: left;\">1</td></tr><tr><td class = \"rowNumber\" style = \"font-weight: bold; text-align: right;\">11</td><td style = \"text-align: left;\">2023-01-01T10:00:00</td><td style = \"text-align: left;\">0.161</td><td style = \"text-align: left;\">1</td></tr><tr><td class = \"rowNumber\" style = \"font-weight: bold; text-align: right;\">12</td><td style = \"text-align: left;\">2023-01-01T11:00:00</td><td style = \"text-align: left;\">0.244</td><td style = \"text-align: left;\">1</td></tr><tr><td class = \"rowNumber\" style = \"font-weight: bold; text-align: right;\">13</td><td style = \"text-align: left;\">2023-01-01T12:00:00</td><td style = \"text-align: left;\">0.2372</td><td style = \"text-align: left;\">1</td></tr><tr><td style = \"text-align: right;\">&vellip;</td><td style = \"text-align: right;\">&vellip;</td><td style = \"text-align: right;\">&vellip;</td><td style = \"text-align: right;\">&vellip;</td></tr><tr><td class = \"rowNumber\" style = \"font-weight: bold; text-align: right;\">733</td><td style = \"text-align: left;\">2023-01-31T12:00:00</td><td style = \"text-align: left;\">0.2811</td><td style = \"text-align: left;\">1</td></tr><tr><td class = \"rowNumber\" style = \"font-weight: bold; text-align: right;\">734</td><td style = \"text-align: left;\">2023-01-31T13:00:00</td><td style = \"text-align: left;\">0.2146</td><td style = \"text-align: left;\">1</td></tr><tr><td class = \"rowNumber\" style = \"font-weight: bold; text-align: right;\">735</td><td style = \"text-align: left;\">2023-01-31T14:00:00</td><td style = \"text-align: left;\">0.1396</td><td style = \"text-align: left;\">1</td></tr><tr><td class = \"rowNumber\" style = \"font-weight: bold; text-align: right;\">736</td><td style = \"text-align: left;\">2023-01-31T15:00:00</td><td style = \"text-align: left;\">0.0564</td><td style = \"text-align: left;\">1</td></tr><tr><td class = \"rowNumber\" style = \"font-weight: bold; text-align: right;\">737</td><td style = \"text-align: left;\">2023-01-31T16:00:00</td><td style = \"text-align: left;\">0.0042</td><td style = \"text-align: left;\">1</td></tr><tr><td class = \"rowNumber\" style = \"font-weight: bold; text-align: right;\">738</td><td style = \"text-align: left;\">2023-01-31T17:00:00</td><td style = \"text-align: left;\">0.0</td><td style = \"text-align: left;\">1</td></tr><tr><td class = \"rowNumber\" style = \"font-weight: bold; text-align: right;\">739</td><td style = \"text-align: left;\">2023-01-31T18:00:00</td><td style = \"text-align: left;\">0.0</td><td style = \"text-align: left;\">1</td></tr><tr><td class = \"rowNumber\" style = \"font-weight: bold; text-align: right;\">740</td><td style = \"text-align: left;\">2023-01-31T19:00:00</td><td style = \"text-align: left;\">0.0</td><td style = \"text-align: left;\">1</td></tr><tr><td class = \"rowNumber\" style = \"font-weight: bold; text-align: right;\">741</td><td style = \"text-align: left;\">2023-01-31T20:00:00</td><td style = \"text-align: left;\">0.0</td><td style = \"text-align: left;\">1</td></tr><tr><td class = \"rowNumber\" style = \"font-weight: bold; text-align: right;\">742</td><td style = \"text-align: left;\">2023-01-31T21:00:00</td><td style = \"text-align: left;\">0.0</td><td style = \"text-align: left;\">1</td></tr><tr><td class = \"rowNumber\" style = \"font-weight: bold; text-align: right;\">743</td><td style = \"text-align: left;\">2023-01-31T22:00:00</td><td style = \"text-align: left;\">0.0</td><td style = \"text-align: left;\">1</td></tr><tr><td class = \"rowNumber\" style = \"font-weight: bold; text-align: right;\">744</td><td style = \"text-align: left;\">2023-01-31T23:00:00</td><td style = \"text-align: left;\">0.0</td><td style = \"text-align: left;\">1</td></tr></tbody></table></div><p>&vellip;</p><div><div style = \"float: left;\"><span>Last Group (744 rows): month = 12</span></div><div style = \"float: right;\"><span style = \"font-style: italic;\">719 rows omitted</span></div><div style = \"clear: both;\"></div></div><div class = \"data-frame\" style = \"overflow-x: scroll;\"><table class = \"data-frame\" style = \"margin-bottom: 6px;\"><thead><tr class = \"header\"><th class = \"rowNumber\" style = \"font-weight: bold; text-align: right;\">Row</th><th style = \"text-align: left;\">timestamp</th><th style = \"text-align: left;\">GB_GBN_solar_profile</th><th style = \"text-align: left;\">month</th></tr><tr class = \"subheader headerLastRow\"><th class = \"rowNumber\" style = \"font-weight: bold; text-align: right;\"></th><th title = \"Dates.DateTime\" style = \"text-align: left;\">DateTime</th><th title = \"Any\" style = \"text-align: left;\">Any</th><th title = \"Any\" style = \"text-align: left;\">Any</th></tr></thead><tbody><tr><td class = \"rowNumber\" style = \"font-weight: bold; text-align: right;\">1</td><td style = \"text-align: left;\">2023-12-01T00:00:00</td><td style = \"text-align: left;\">0.0</td><td style = \"text-align: left;\">12</td></tr><tr><td class = \"rowNumber\" style = \"font-weight: bold; text-align: right;\">2</td><td style = \"text-align: left;\">2023-12-01T01:00:00</td><td style = \"text-align: left;\">0.0</td><td style = \"text-align: left;\">12</td></tr><tr><td class = \"rowNumber\" style = \"font-weight: bold; text-align: right;\">3</td><td style = \"text-align: left;\">2023-12-01T02:00:00</td><td style = \"text-align: left;\">0.0</td><td style = \"text-align: left;\">12</td></tr><tr><td class = \"rowNumber\" style = \"font-weight: bold; text-align: right;\">4</td><td style = \"text-align: left;\">2023-12-01T03:00:00</td><td style = \"text-align: left;\">0.0</td><td style = \"text-align: left;\">12</td></tr><tr><td class = \"rowNumber\" style = \"font-weight: bold; text-align: right;\">5</td><td style = \"text-align: left;\">2023-12-01T04:00:00</td><td style = \"text-align: left;\">0.0</td><td style = \"text-align: left;\">12</td></tr><tr><td class = \"rowNumber\" style = \"font-weight: bold; text-align: right;\">6</td><td style = \"text-align: left;\">2023-12-01T05:00:00</td><td style = \"text-align: left;\">0.0</td><td style = \"text-align: left;\">12</td></tr><tr><td class = \"rowNumber\" style = \"font-weight: bold; text-align: right;\">7</td><td style = \"text-align: left;\">2023-12-01T06:00:00</td><td style = \"text-align: left;\">0.015</td><td style = \"text-align: left;\">12</td></tr><tr><td class = \"rowNumber\" style = \"font-weight: bold; text-align: right;\">8</td><td style = \"text-align: left;\">2023-12-01T07:00:00</td><td style = \"text-align: left;\">0.0</td><td style = \"text-align: left;\">12</td></tr><tr><td class = \"rowNumber\" style = \"font-weight: bold; text-align: right;\">9</td><td style = \"text-align: left;\">2023-12-01T08:00:00</td><td style = \"text-align: left;\">0.0079</td><td style = \"text-align: left;\">12</td></tr><tr><td class = \"rowNumber\" style = \"font-weight: bold; text-align: right;\">10</td><td style = \"text-align: left;\">2023-12-01T09:00:00</td><td style = \"text-align: left;\">0.027</td><td style = \"text-align: left;\">12</td></tr><tr><td class = \"rowNumber\" style = \"font-weight: bold; text-align: right;\">11</td><td style = \"text-align: left;\">2023-12-01T10:00:00</td><td style = \"text-align: left;\">0.0964</td><td style = \"text-align: left;\">12</td></tr><tr><td class = \"rowNumber\" style = \"font-weight: bold; text-align: right;\">12</td><td style = \"text-align: left;\">2023-12-01T11:00:00</td><td style = \"text-align: left;\">0.1698</td><td style = \"text-align: left;\">12</td></tr><tr><td class = \"rowNumber\" style = \"font-weight: bold; text-align: right;\">13</td><td style = \"text-align: left;\">2023-12-01T12:00:00</td><td style = \"text-align: left;\">0.2226</td><td style = \"text-align: left;\">12</td></tr><tr><td style = \"text-align: right;\">&vellip;</td><td style = \"text-align: right;\">&vellip;</td><td style = \"text-align: right;\">&vellip;</td><td style = \"text-align: right;\">&vellip;</td></tr><tr><td class = \"rowNumber\" style = \"font-weight: bold; text-align: right;\">733</td><td style = \"text-align: left;\">2023-12-31T12:00:00</td><td style = \"text-align: left;\">0.3204</td><td style = \"text-align: left;\">12</td></tr><tr><td class = \"rowNumber\" style = \"font-weight: bold; text-align: right;\">734</td><td style = \"text-align: left;\">2023-12-31T13:00:00</td><td style = \"text-align: left;\">0.258</td><td style = \"text-align: left;\">12</td></tr><tr><td class = \"rowNumber\" style = \"font-weight: bold; text-align: right;\">735</td><td style = \"text-align: left;\">2023-12-31T14:00:00</td><td style = \"text-align: left;\">0.1953</td><td style = \"text-align: left;\">12</td></tr><tr><td class = \"rowNumber\" style = \"font-weight: bold; text-align: right;\">736</td><td style = \"text-align: left;\">2023-12-31T15:00:00</td><td style = \"text-align: left;\">0.0573</td><td style = \"text-align: left;\">12</td></tr><tr><td class = \"rowNumber\" style = \"font-weight: bold; text-align: right;\">737</td><td style = \"text-align: left;\">2023-12-31T16:00:00</td><td style = \"text-align: left;\">0.0066</td><td style = \"text-align: left;\">12</td></tr><tr><td class = \"rowNumber\" style = \"font-weight: bold; text-align: right;\">738</td><td style = \"text-align: left;\">2023-12-31T17:00:00</td><td style = \"text-align: left;\">0.0</td><td style = \"text-align: left;\">12</td></tr><tr><td class = \"rowNumber\" style = \"font-weight: bold; text-align: right;\">739</td><td style = \"text-align: left;\">2023-12-31T18:00:00</td><td style = \"text-align: left;\">0.0</td><td style = \"text-align: left;\">12</td></tr><tr><td class = \"rowNumber\" style = \"font-weight: bold; text-align: right;\">740</td><td style = \"text-align: left;\">2023-12-31T19:00:00</td><td style = \"text-align: left;\">0.0</td><td style = \"text-align: left;\">12</td></tr><tr><td class = \"rowNumber\" style = \"font-weight: bold; text-align: right;\">741</td><td style = \"text-align: left;\">2023-12-31T20:00:00</td><td style = \"text-align: left;\">0.0</td><td style = \"text-align: left;\">12</td></tr><tr><td class = \"rowNumber\" style = \"font-weight: bold; text-align: right;\">742</td><td style = \"text-align: left;\">2023-12-31T21:00:00</td><td style = \"text-align: left;\">0.0</td><td style = \"text-align: left;\">12</td></tr><tr><td class = \"rowNumber\" style = \"font-weight: bold; text-align: right;\">743</td><td style = \"text-align: left;\">2023-12-31T22:00:00</td><td style = \"text-align: left;\">0.0</td><td style = \"text-align: left;\">12</td></tr><tr><td class = \"rowNumber\" style = \"font-weight: bold; text-align: right;\">744</td><td style = \"text-align: left;\">2023-12-31T23:00:00</td><td style = \"text-align: left;\">0.0</td><td style = \"text-align: left;\">12</td></tr></tbody></table></div>"
      ],
      "text/latex": [
       "GroupedDataFrame with 12 groups based on key: month\n",
       "\n",
       "First Group (744 rows): month = 1\n",
       "\n",
       "\\begin{tabular}{r|ccc}\n",
       "\t& timestamp & GB\\_GBN\\_solar\\_profile & month\\\\\n",
       "\t\\hline\n",
       "\t& DateTime & Any & Any\\\\\n",
       "\t\\hline\n",
       "\t1 & 2023-01-01T00:00:00 & 0.0 & 1 \\\\\n",
       "\t2 & 2023-01-01T01:00:00 & 0.0 & 1 \\\\\n",
       "\t3 & 2023-01-01T02:00:00 & 0.0 & 1 \\\\\n",
       "\t4 & 2023-01-01T03:00:00 & 0.0 & 1 \\\\\n",
       "\t5 & 2023-01-01T04:00:00 & 0.0 & 1 \\\\\n",
       "\t6 & 2023-01-01T05:00:00 & 0.0 & 1 \\\\\n",
       "\t7 & 2023-01-01T06:00:00 & 0.0 & 1 \\\\\n",
       "\t8 & 2023-01-01T07:00:00 & 0.0 & 1 \\\\\n",
       "\t9 & 2023-01-01T08:00:00 & 0.0067 & 1 \\\\\n",
       "\t10 & 2023-01-01T09:00:00 & 0.0638 & 1 \\\\\n",
       "\t11 & 2023-01-01T10:00:00 & 0.161 & 1 \\\\\n",
       "\t12 & 2023-01-01T11:00:00 & 0.244 & 1 \\\\\n",
       "\t13 & 2023-01-01T12:00:00 & 0.2372 & 1 \\\\\n",
       "\t14 & 2023-01-01T13:00:00 & 0.169 & 1 \\\\\n",
       "\t15 & 2023-01-01T14:00:00 & 0.0882 & 1 \\\\\n",
       "\t16 & 2023-01-01T15:00:00 & 0.0174 & 1 \\\\\n",
       "\t17 & 2023-01-01T16:00:00 & 0.0001 & 1 \\\\\n",
       "\t18 & 2023-01-01T17:00:00 & 0.0 & 1 \\\\\n",
       "\t19 & 2023-01-01T18:00:00 & 0.0 & 1 \\\\\n",
       "\t20 & 2023-01-01T19:00:00 & 0.0 & 1 \\\\\n",
       "\t21 & 2023-01-01T20:00:00 & 0.0 & 1 \\\\\n",
       "\t22 & 2023-01-01T21:00:00 & 0.0 & 1 \\\\\n",
       "\t23 & 2023-01-01T22:00:00 & 0.0 & 1 \\\\\n",
       "\t24 & 2023-01-01T23:00:00 & 0.0 & 1 \\\\\n",
       "\t$\\dots$ & $\\dots$ & $\\dots$ & $\\dots$ \\\\\n",
       "\\end{tabular}\n",
       "\n",
       "$\\dots$\n",
       "\n",
       "Last Group (744 rows): month = 12\n",
       "\n",
       "\\begin{tabular}{r|ccc}\n",
       "\t& timestamp & GB\\_GBN\\_solar\\_profile & month\\\\\n",
       "\t\\hline\n",
       "\t& DateTime & Any & Any\\\\\n",
       "\t\\hline\n",
       "\t1 & 2023-12-01T00:00:00 & 0.0 & 12 \\\\\n",
       "\t2 & 2023-12-01T01:00:00 & 0.0 & 12 \\\\\n",
       "\t3 & 2023-12-01T02:00:00 & 0.0 & 12 \\\\\n",
       "\t4 & 2023-12-01T03:00:00 & 0.0 & 12 \\\\\n",
       "\t5 & 2023-12-01T04:00:00 & 0.0 & 12 \\\\\n",
       "\t6 & 2023-12-01T05:00:00 & 0.0 & 12 \\\\\n",
       "\t7 & 2023-12-01T06:00:00 & 0.015 & 12 \\\\\n",
       "\t8 & 2023-12-01T07:00:00 & 0.0 & 12 \\\\\n",
       "\t9 & 2023-12-01T08:00:00 & 0.0079 & 12 \\\\\n",
       "\t10 & 2023-12-01T09:00:00 & 0.027 & 12 \\\\\n",
       "\t11 & 2023-12-01T10:00:00 & 0.0964 & 12 \\\\\n",
       "\t12 & 2023-12-01T11:00:00 & 0.1698 & 12 \\\\\n",
       "\t13 & 2023-12-01T12:00:00 & 0.2226 & 12 \\\\\n",
       "\t14 & 2023-12-01T13:00:00 & 0.2208 & 12 \\\\\n",
       "\t15 & 2023-12-01T14:00:00 & 0.1166 & 12 \\\\\n",
       "\t16 & 2023-12-01T15:00:00 & 0.0396 & 12 \\\\\n",
       "\t17 & 2023-12-01T16:00:00 & 0.0041 & 12 \\\\\n",
       "\t18 & 2023-12-01T17:00:00 & 0.0 & 12 \\\\\n",
       "\t19 & 2023-12-01T18:00:00 & 0.0 & 12 \\\\\n",
       "\t20 & 2023-12-01T19:00:00 & 0.0 & 12 \\\\\n",
       "\t21 & 2023-12-01T20:00:00 & 0.0 & 12 \\\\\n",
       "\t22 & 2023-12-01T21:00:00 & 0.0 & 12 \\\\\n",
       "\t23 & 2023-12-01T22:00:00 & 0.0 & 12 \\\\\n",
       "\t24 & 2023-12-01T23:00:00 & 0.0 & 12 \\\\\n",
       "\t$\\dots$ & $\\dots$ & $\\dots$ & $\\dots$ \\\\\n",
       "\\end{tabular}\n"
      ],
      "text/plain": [
       "GroupedDataFrame with 12 groups based on key: month\n",
       "First Group (744 rows): month = 1\n",
       "\u001b[1m Row \u001b[0m│\u001b[1m timestamp           \u001b[0m\u001b[1m GB_GBN_solar_profile \u001b[0m\u001b[1m month \u001b[0m\n",
       "     │\u001b[90m DateTime            \u001b[0m\u001b[90m Any                  \u001b[0m\u001b[90m Any   \u001b[0m\n",
       "─────┼──────────────────────────────────────────────────\n",
       "   1 │ 2023-01-01T00:00:00  0.0                   1\n",
       "   2 │ 2023-01-01T01:00:00  0.0                   1\n",
       "  ⋮  │          ⋮                    ⋮              ⋮\n",
       " 743 │ 2023-01-31T22:00:00  0.0                   1\n",
       " 744 │ 2023-01-31T23:00:00  0.0                   1\n",
       "\u001b[36m                                        740 rows omitted\u001b[0m\n",
       "⋮\n",
       "Last Group (744 rows): month = 12\n",
       "\u001b[1m Row \u001b[0m│\u001b[1m timestamp           \u001b[0m\u001b[1m GB_GBN_solar_profile \u001b[0m\u001b[1m month \u001b[0m\n",
       "     │\u001b[90m DateTime            \u001b[0m\u001b[90m Any                  \u001b[0m\u001b[90m Any   \u001b[0m\n",
       "─────┼──────────────────────────────────────────────────\n",
       "   1 │ 2023-12-01T00:00:00  0.0                   12\n",
       "   2 │ 2023-12-01T01:00:00  0.0                   12\n",
       "  ⋮  │          ⋮                    ⋮              ⋮\n",
       " 744 │ 2023-12-31T23:00:00  0.0                   12\n",
       "\u001b[36m                                        741 rows omitted\u001b[0m"
      ]
     },
     "metadata": {},
     "output_type": "display_data"
    }
   ],
   "source": [
    "groupby(TMYS[\"GB_GBN_solar_profile\"],:month)"
   ]
  },
  {
   "cell_type": "markdown",
   "metadata": {},
   "source": [
    "### Variable Definitions and Model"
   ]
  },
  {
   "cell_type": "code",
   "execution_count": 30,
   "metadata": {},
   "outputs": [],
   "source": [
    "generators = CSV.read(\"Data/CostsData.csv\",DataFrame);\n",
    "G = generators.Gen;\n",
    "\n",
    "# Separate the generators into renewable and conventional\n",
    "G_erv = G[occursin.(\"Wind\",G) .| occursin.(\"Solar\",G)];\n",
    "G_conv = G[G.∉ Ref(G_erv)];\n",
    "\n",
    "# We want to select the columns that do work for us. We will remove those in kW\n",
    "columns = names(generators)\n",
    "to_use = columns[.!occursin.(\"KW\",columns) .& .!occursin.(\"Gen\",columns)]\n",
    "\n",
    "gen_data = Dict()\n",
    "for column in to_use\n",
    "    colname = split(column)[1]\n",
    "    gen_data[colname] = JuMP.Containers.DenseAxisArray(generators[!,column],G)\n",
    "end"
   ]
  },
  {
   "cell_type": "code",
   "execution_count": 31,
   "metadata": {},
   "outputs": [],
   "source": [
    "demand = CSV.read(\"Data/demanddata_Hourly.csv\",DataFrame);\n",
    "D = demand.ND;"
   ]
  },
  {
   "cell_type": "code",
   "execution_count": 32,
   "metadata": {},
   "outputs": [
    {
     "data": {
      "text/plain": [
       "1:8760"
      ]
     },
     "metadata": {},
     "output_type": "display_data"
    }
   ],
   "source": [
    "H = 1:length(D)"
   ]
  },
  {
   "cell_type": "code",
   "execution_count": 33,
   "metadata": {},
   "outputs": [],
   "source": [
    "cap_df = CSV.read(\"Data/TMY_uk_erv.csv\",DataFrame);\n",
    "names_x = names(cap_df);\n",
    "for gen in G_erv\n",
    "    if occursin(\"Solar\",gen)\n",
    "        tech = \"solar\"\n",
    "    else\n",
    "        tech = lowercase(split(gen,\"W\")[1])\n",
    "    end\n",
    "    for name in names_x\n",
    "        if occursin(tech,name)\n",
    "            rename!(cap_df, name => gen)\n",
    "            names_x = names(cap_df)\n",
    "        end\n",
    "    end\n",
    "\n",
    "end\n",
    "\n",
    "cap_df = cap_df[!,G_erv];\n",
    "capacity_factors = Dict()\n",
    "for column in names(cap_df)\n",
    "   capacity_factors[column] = JuMP.Containers.DenseAxisArray(cap_df[!,column],H)\n",
    "end\n",
    "\n",
    "VoLL = 1000;"
   ]
  },
  {
   "cell_type": "code",
   "execution_count": 34,
   "metadata": {},
   "outputs": [
    {
     "name": "stdout",
     "output_type": "stream",
     "text": [
      "Set parameter Username\r\n",
      "Academic license - for non-commercial use only - expires 2025-01-12\r\n"
     ]
    },
    {
     "data": {
      "text/latex": [
       "$ 123739.12 CAP_{OnshoreWind} + 401212.37 CAP_{OffshoreWind} + 106981.4 CAP_{Solar} + 704816.38 CAP_{Hydro-Dam} + 570804.12 CAP_{Hydro-RoR} + 771658.4 CAP_{Nuclear} + 507692.29 CAP_{Biomass} + 539800.14 CAP_{Coal} + 113290.07 CAP_{Gas-CC} + 96857.61 CAP_{Gas-CT} + 9.40426 GEN_{Nuclear,1} + 9.40426 GEN_{Nuclear,2} + 9.40426 GEN_{Nuclear,3} + 9.40426 GEN_{Nuclear,4} + 9.40426 GEN_{Nuclear,5} + 9.40426 GEN_{Nuclear,6} + 9.40426 GEN_{Nuclear,7} + 9.40426 GEN_{Nuclear,8} + 9.40426 GEN_{Nuclear,9} + 9.40426 GEN_{Nuclear,10} + 9.40426 GEN_{Nuclear,11} + 9.40426 GEN_{Nuclear,12} + 9.40426 GEN_{Nuclear,13} + 9.40426 GEN_{Nuclear,14} + 9.40426 GEN_{Nuclear,15} + 9.40426 GEN_{Nuclear,16} + 9.40426 GEN_{Nuclear,17} + 9.40426 GEN_{Nuclear,18} + 9.40426 GEN_{Nuclear,19} + 9.40426 GEN_{Nuclear,20} + [[\\ldots\\text{52510 terms omitted}\\ldots]] + 1000 NSE_{8731} + 1000 NSE_{8732} + 1000 NSE_{8733} + 1000 NSE_{8734} + 1000 NSE_{8735} + 1000 NSE_{8736} + 1000 NSE_{8737} + 1000 NSE_{8738} + 1000 NSE_{8739} + 1000 NSE_{8740} + 1000 NSE_{8741} + 1000 NSE_{8742} + 1000 NSE_{8743} + 1000 NSE_{8744} + 1000 NSE_{8745} + 1000 NSE_{8746} + 1000 NSE_{8747} + 1000 NSE_{8748} + 1000 NSE_{8749} + 1000 NSE_{8750} + 1000 NSE_{8751} + 1000 NSE_{8752} + 1000 NSE_{8753} + 1000 NSE_{8754} + 1000 NSE_{8755} + 1000 NSE_{8756} + 1000 NSE_{8757} + 1000 NSE_{8758} + 1000 NSE_{8759} + 1000 NSE_{8760} $"
      ],
      "text/plain": [
       "123739.12 CAP[OnshoreWind] + 401212.37 CAP[OffshoreWind] + 106981.4 CAP[Solar] + 704816.38 CAP[Hydro-Dam] + 570804.12 CAP[Hydro-RoR] + 771658.4 CAP[Nuclear] + 507692.29 CAP[Biomass] + 539800.14 CAP[Coal] + 113290.07 CAP[Gas-CC] + 96857.61 CAP[Gas-CT] + 9.40426 GEN[Nuclear,1] + 9.40426 GEN[Nuclear,2] + 9.40426 GEN[Nuclear,3] + 9.40426 GEN[Nuclear,4] + 9.40426 GEN[Nuclear,5] + 9.40426 GEN[Nuclear,6] + 9.40426 GEN[Nuclear,7] + 9.40426 GEN[Nuclear,8] + 9.40426 GEN[Nuclear,9] + 9.40426 GEN[Nuclear,10] + 9.40426 GEN[Nuclear,11] + 9.40426 GEN[Nuclear,12] + 9.40426 GEN[Nuclear,13] + 9.40426 GEN[Nuclear,14] + 9.40426 GEN[Nuclear,15] + 9.40426 GEN[Nuclear,16] + 9.40426 GEN[Nuclear,17] + 9.40426 GEN[Nuclear,18] + 9.40426 GEN[Nuclear,19] + 9.40426 GEN[Nuclear,20] + [[...52510 terms omitted...]] + 1000 NSE[8731] + 1000 NSE[8732] + 1000 NSE[8733] + 1000 NSE[8734] + 1000 NSE[8735] + 1000 NSE[8736] + 1000 NSE[8737] + 1000 NSE[8738] + 1000 NSE[8739] + 1000 NSE[8740] + 1000 NSE[8741] + 1000 NSE[8742] + 1000 NSE[8743] + 1000 NSE[8744] + 1000 NSE[8745] + 1000 NSE[8746] + 1000 NSE[8747] + 1000 NSE[8748] + 1000 NSE[8749] + 1000 NSE[8750] + 1000 NSE[8751] + 1000 NSE[8752] + 1000 NSE[8753] + 1000 NSE[8754] + 1000 NSE[8755] + 1000 NSE[8756] + 1000 NSE[8757] + 1000 NSE[8758] + 1000 NSE[8759] + 1000 NSE[8760]"
      ]
     },
     "metadata": {},
     "output_type": "display_data"
    }
   ],
   "source": [
    "FirstExpansionModel = Model(Gurobi.Optimizer)\n",
    "@variables(FirstExpansionModel,begin\n",
    "    CAP[g in G] >= 0\n",
    "    GEN[g in G, h in H] >= 0\n",
    "    NSE[h in H] >= 0\n",
    "end);\n",
    "\n",
    "@constraints(FirstExpansionModel,begin\n",
    "    demandBalance[h in H], sum(GEN[g,h] for g in G) + NSE[h] == D[h]\n",
    "    capacityBound[g in G_conv, h in H], GEN[g,h] <= CAP[g]*gen_data[\"CapacityFactor\"][g]\n",
    "    capacityBoundRVE[g in G_erv, h in H], GEN[g,h] <= CAP[g]*capacity_factors[g][h]\n",
    "end)\n",
    "\n",
    "@objective(FirstExpansionModel,Min,sum((gen_data[\"CAPEX\"][g]+gen_data[\"OM\"][g])*CAP[g] for g in G) + sum((gen_data[\"FuelCost\"][g]*gen_data[\"HeatRate\"][g]+gen_data[\"VarOM\"][g])*GEN[g,h] for g in G, h in H) + sum(VoLL*NSE[h] for h in H))"
   ]
  },
  {
   "cell_type": "code",
   "execution_count": 35,
   "metadata": {},
   "outputs": [
    {
     "data": {
      "text/plain": [
       "87809"
      ]
     },
     "metadata": {},
     "output_type": "display_data"
    }
   ],
   "source": [
    "maximum(D)"
   ]
  },
  {
   "cell_type": "code",
   "execution_count": 36,
   "metadata": {},
   "outputs": [
    {
     "name": "stdout",
     "output_type": "stream",
     "text": [
      "Gurobi Optimizer version 11.0.0 build v11.0.0rc2 (win64 - Windows 11+.0 (22631.2))\r\n",
      "\r\n",
      "CPU model: 13th Gen Intel(R) Core(TM) i7-1360P, instruction set [SSE2|AVX|AVX2]\r\n",
      "Thread count: 12 physical cores, 16 logical processors, using up to 16 threads\r\n",
      "\r\n",
      "Optimize a model with 96360 rows, 96370 columns and 267962 nonzeros\r\n",
      "Model fingerprint: 0x39e9bdb8\r\n",
      "Coefficient statistics:\r\n",
      "  Matrix range     [1e-04, 1e+00]\r\n",
      "  Objective range  [9e+00, 8e+05]\r\n",
      "  Bounds range     [0e+00, 0e+00]\r\n",
      "  RHS range        [3e+04, 9e+04]\r\n",
      "Presolve removed 3608 rows and 3608 columns\r\n",
      "Presolve time: 0.13s\r\n",
      "Presolved: 92752 rows, 92762 columns, 260738 nonzeros\r\n",
      "\r\n",
      "Concurrent LP optimizer: primal simplex, dual simplex, and barrier\r\n",
      "Showing barrier log only...\r\n",
      "\r\n",
      "Ordering time: 0.02s\r\n",
      "\r\n",
      "Barrier statistics:\r\n",
      " Dense cols : 10\r\n",
      " AA' NZ     : 1.680e+05\r\n",
      " Factor NZ  : 1.430e+06 (roughly 90 MB of memory)\r\n",
      " Factor Ops : 2.296e+07 (less than 1 second per iteration)\r\n",
      " Threads    : 10\r\n",
      "\r\n",
      "                  Objective                Residual\r\n",
      "Iter       Primal          Dual         Primal    Dual     Compl     Time\r\n",
      "   0   2.75206596e+12  0.00000000e+00  1.44e+06 0.00e+00  5.82e+08     0s\r\n",
      "   1   2.01701626e+12 -1.90113723e+12  4.27e+05 1.07e+03  1.84e+08     0s\r\n",
      "   2   1.60914796e+12 -2.02781549e+12  3.49e-10 4.45e+00  1.38e+07     0s\r\n",
      "   3   2.80141063e+11 -2.65999335e+10  3.49e-10 2.22e-02  1.14e+06     0s\r\n",
      "   4   1.41020298e+11  4.26459318e+09  5.82e-10 3.23e-09  5.08e+05     0s\r\n",
      "   5   9.84487135e+10  7.95791445e+09  9.31e-10 7.57e-10  3.36e+05     1s\r\n",
      "   6   6.73194686e+10  1.04329531e+10  2.21e-09 1.18e-09  2.11e+05     1s\r\n",
      "   7   5.26668276e+10  1.14452674e+10  1.21e-09 2.90e-09  1.53e+05     1s\r\n",
      "   8   3.71868629e+10  1.26744377e+10  1.20e-08 3.00e-09  9.10e+04     1s\r\n",
      "   9   3.12188519e+10  1.29085175e+10  5.56e-07 2.40e-09  6.80e+04     1s\r\n",
      "  10   2.59408911e+10  1.36310997e+10  1.59e-07 1.94e-09  4.57e+04     1s\r\n",
      "  11   2.35793153e+10  1.37688414e+10  1.23e-07 1.13e-09  3.64e+04     1s\r\n",
      "  12   2.10182124e+10  1.40888109e+10  1.23e-07 3.27e-10  2.57e+04     1s\r\n",
      "  13   1.96961967e+10  1.41659938e+10  1.40e-07 6.40e-10  2.05e+04     1s\r\n",
      "  14   1.89569205e+10  1.42171855e+10  1.05e-07 1.24e-09  1.76e+04     1s\r\n",
      "  15   1.81217780e+10  1.43353644e+10  8.58e-08 2.94e-11  1.41e+04     1s\r\n",
      "  16   1.75800376e+10  1.43929716e+10  7.72e-08 5.53e-10  1.18e+04     1s\r\n",
      "\r\n",
      "Barrier performed 16 iterations in 0.91 seconds (0.71 work units)\r\n",
      "Barrier solve interrupted - model solved by another algorithm\r\n",
      "\r\n",
      "\r\n",
      "Solved with dual simplex\r\n",
      "Iteration    Objective       Primal Inf.    Dual Inf.      Time\r\n",
      "   52364    1.4750278e+10   0.000000e+00   0.000000e+00      1s\r\n",
      "\r\n",
      "Solved in 52364 iterations and 0.97 seconds (0.72 work units)\r\n",
      "Optimal objective  1.475027816e+10\r\n",
      "\r\n",
      "User-callback calls 137, time in user-callback 0.00 sec\r\n"
     ]
    }
   ],
   "source": [
    "optimize!(FirstExpansionModel)"
   ]
  },
  {
   "cell_type": "code",
   "execution_count": 37,
   "metadata": {},
   "outputs": [
    {
     "data": {
      "text/plain": [
       "3.45021630269308e11"
      ]
     },
     "metadata": {},
     "output_type": "display_data"
    }
   ],
   "source": [
    "generation = value.(GEN).data*ones(8760,1)\n",
    "total_generation = JuMP.Containers.DenseAxisArray(generation[:],G)\n",
    "total_co2 = sum(gen_data[\"CO2\"][g]*gen_data[\"HeatRate\"][g]*total_generation[g] for g in G)"
   ]
  },
  {
   "cell_type": "code",
   "execution_count": 38,
   "metadata": {},
   "outputs": [
    {
     "name": "stdout",
     "output_type": "stream",
     "text": [
      "Set parameter Username\r\n",
      "Academic license - for non-commercial use only - expires 2025-01-12\r\n"
     ]
    },
    {
     "data": {
      "text/latex": [
       "$ 123739.12 CAP_{OnshoreWind} + 401212.37 CAP_{OffshoreWind} + 106981.4 CAP_{Solar} + 704816.38 CAP_{Hydro-Dam} + 570804.12 CAP_{Hydro-RoR} + 771658.4 CAP_{Nuclear} + 507692.29 CAP_{Biomass} + 539800.14 CAP_{Coal} + 113290.07 CAP_{Gas-CC} + 96857.61 CAP_{Gas-CT} + 9.40426 GEN_{Nuclear,1} + 9.40426 GEN_{Nuclear,2} + 9.40426 GEN_{Nuclear,3} + 9.40426 GEN_{Nuclear,4} + 9.40426 GEN_{Nuclear,5} + 9.40426 GEN_{Nuclear,6} + 9.40426 GEN_{Nuclear,7} + 9.40426 GEN_{Nuclear,8} + 9.40426 GEN_{Nuclear,9} + 9.40426 GEN_{Nuclear,10} + 9.40426 GEN_{Nuclear,11} + 9.40426 GEN_{Nuclear,12} + 9.40426 GEN_{Nuclear,13} + 9.40426 GEN_{Nuclear,14} + 9.40426 GEN_{Nuclear,15} + 9.40426 GEN_{Nuclear,16} + 9.40426 GEN_{Nuclear,17} + 9.40426 GEN_{Nuclear,18} + 9.40426 GEN_{Nuclear,19} + 9.40426 GEN_{Nuclear,20} + [[\\ldots\\text{52510 terms omitted}\\ldots]] + 1000 NSE_{8731} + 1000 NSE_{8732} + 1000 NSE_{8733} + 1000 NSE_{8734} + 1000 NSE_{8735} + 1000 NSE_{8736} + 1000 NSE_{8737} + 1000 NSE_{8738} + 1000 NSE_{8739} + 1000 NSE_{8740} + 1000 NSE_{8741} + 1000 NSE_{8742} + 1000 NSE_{8743} + 1000 NSE_{8744} + 1000 NSE_{8745} + 1000 NSE_{8746} + 1000 NSE_{8747} + 1000 NSE_{8748} + 1000 NSE_{8749} + 1000 NSE_{8750} + 1000 NSE_{8751} + 1000 NSE_{8752} + 1000 NSE_{8753} + 1000 NSE_{8754} + 1000 NSE_{8755} + 1000 NSE_{8756} + 1000 NSE_{8757} + 1000 NSE_{8758} + 1000 NSE_{8759} + 1000 NSE_{8760} $"
      ],
      "text/plain": [
       "123739.12 CAP[OnshoreWind] + 401212.37 CAP[OffshoreWind] + 106981.4 CAP[Solar] + 704816.38 CAP[Hydro-Dam] + 570804.12 CAP[Hydro-RoR] + 771658.4 CAP[Nuclear] + 507692.29 CAP[Biomass] + 539800.14 CAP[Coal] + 113290.07 CAP[Gas-CC] + 96857.61 CAP[Gas-CT] + 9.40426 GEN[Nuclear,1] + 9.40426 GEN[Nuclear,2] + 9.40426 GEN[Nuclear,3] + 9.40426 GEN[Nuclear,4] + 9.40426 GEN[Nuclear,5] + 9.40426 GEN[Nuclear,6] + 9.40426 GEN[Nuclear,7] + 9.40426 GEN[Nuclear,8] + 9.40426 GEN[Nuclear,9] + 9.40426 GEN[Nuclear,10] + 9.40426 GEN[Nuclear,11] + 9.40426 GEN[Nuclear,12] + 9.40426 GEN[Nuclear,13] + 9.40426 GEN[Nuclear,14] + 9.40426 GEN[Nuclear,15] + 9.40426 GEN[Nuclear,16] + 9.40426 GEN[Nuclear,17] + 9.40426 GEN[Nuclear,18] + 9.40426 GEN[Nuclear,19] + 9.40426 GEN[Nuclear,20] + [[...52510 terms omitted...]] + 1000 NSE[8731] + 1000 NSE[8732] + 1000 NSE[8733] + 1000 NSE[8734] + 1000 NSE[8735] + 1000 NSE[8736] + 1000 NSE[8737] + 1000 NSE[8738] + 1000 NSE[8739] + 1000 NSE[8740] + 1000 NSE[8741] + 1000 NSE[8742] + 1000 NSE[8743] + 1000 NSE[8744] + 1000 NSE[8745] + 1000 NSE[8746] + 1000 NSE[8747] + 1000 NSE[8748] + 1000 NSE[8749] + 1000 NSE[8750] + 1000 NSE[8751] + 1000 NSE[8752] + 1000 NSE[8753] + 1000 NSE[8754] + 1000 NSE[8755] + 1000 NSE[8756] + 1000 NSE[8757] + 1000 NSE[8758] + 1000 NSE[8759] + 1000 NSE[8760]"
      ]
     },
     "metadata": {},
     "output_type": "display_data"
    }
   ],
   "source": [
    "SecondExpansionModel = Model(Gurobi.Optimizer)\n",
    "@variables(SecondExpansionModel,begin\n",
    "    CAP[g in G] >= 0\n",
    "    GEN[g in G, h in H] >= 0\n",
    "    NSE[h in H] >= 0\n",
    "end);\n",
    "\n",
    "@constraints(SecondExpansionModel,begin\n",
    "    demandBalance[h in H], sum(GEN[g,h] for g in G) + NSE[h] == D[h]\n",
    "    capacityBound[g in G_conv, h in H], GEN[g,h] <= CAP[g]*gen_data[\"CapacityFactor\"][g]\n",
    "    capacityBoundRVE[g in G_erv, h in H], GEN[g,h] <= CAP[g]*capacity_factors[g][h]\n",
    "    CO2Constraint, sum(gen_data[\"CO2\"][g]*gen_data[\"HeatRate\"][g]*GEN[g,h] for g in G, h in H) <= total_co2 * 0.5\n",
    "end)\n",
    "\n",
    "@objective(SecondExpansionModel,Min,sum((gen_data[\"CAPEX\"][g]+gen_data[\"OM\"][g])*CAP[g] for g in G) + sum((gen_data[\"FuelCost\"][g]*gen_data[\"HeatRate\"][g]+gen_data[\"VarOM\"][g])*GEN[g,h] for g in G, h in H) + sum(VoLL*NSE[h] for h in H))"
   ]
  },
  {
   "cell_type": "code",
   "execution_count": 50,
   "metadata": {},
   "outputs": [
    {
     "name": "stdout",
     "output_type": "stream",
     "text": [
      "Gurobi Optimizer version 11.0.0 build v11.0.0rc2 (win64 - Windows 11+.0 (22631.2))\r\n",
      "\r\n",
      "CPU model: 13th Gen Intel(R) Core(TM) i7-1360P, instruction set [SSE2|AVX|AVX2]\r\n",
      "Thread count: 12 physical cores, 16 logical processors, using up to 16 threads\r\n",
      "\r\n",
      "Optimize a model with 96361 rows, 96370 columns and 294242 nonzeros\r\n",
      "Coefficient statistics:\r\n",
      "  Matrix range     [1e-04, 2e+03]\r\n",
      "  Objective range  [9e+00, 8e+05]\r\n",
      "  Bounds range     [0e+00, 0e+00]\r\n",
      "  RHS range        [3e+04, 2e+11]\r\n",
      "Warning: Model contains large rhs\r\n",
      "         Consider reformulating model or setting NumericFocus parameter\r\n",
      "         to avoid numerical issues.\r\n",
      "\r\n",
      "Solved in 0 iterations and 0.00 seconds (0.00 work units)\r\n",
      "Optimal objective  2.340198409e+10\r\n",
      "\r\n",
      "User-callback calls 18, time in user-callback 0.00 sec\r\n"
     ]
    }
   ],
   "source": [
    "optimize!(SecondExpansionModel)"
   ]
  },
  {
   "cell_type": "code",
   "execution_count": 52,
   "metadata": {},
   "outputs": [
    {
     "data": {
      "text/plain": [
       "1-dimensional DenseAxisArray{Float64,1,...} with index sets:\n",
       "    Dimension 1, String15[\"OnshoreWind\", \"OffshoreWind\", \"Solar\", \"Hydro-Dam\", \"Hydro-RoR\", \"Nuclear\", \"Biomass\", \"Coal\", \"Gas-CC\", \"Gas-CT\"]\n",
       "And data, a 10-element Vector{Float64}:\n",
       " 105753.65344467641\n",
       "      0.0\n",
       "      0.0\n",
       "      0.0\n",
       "      0.0\n",
       "      0.0\n",
       "      0.0\n",
       "      0.0\n",
       "  53108.122755741126\n",
       "  10113.173277661797"
      ]
     },
     "metadata": {},
     "output_type": "display_data"
    }
   ],
   "source": [
    "display(value.(CAP))\n",
    "CO2price = abs(dual.(CO2Constraint));"
   ]
  },
  {
   "cell_type": "code",
   "execution_count": 45,
   "metadata": {},
   "outputs": [
    {
     "name": "stdout",
     "output_type": "stream",
     "text": [
      "Set parameter Username\r\n",
      "Academic license - for non-commercial use only - expires 2025-01-12\r\n"
     ]
    },
    {
     "data": {
      "text/latex": [
       "$ 123739.12 CAP_{OnshoreWind} + 401212.37 CAP_{OffshoreWind} + 106981.4 CAP_{Solar} + 704816.38 CAP_{Hydro-Dam} + 570804.12 CAP_{Hydro-RoR} + 771658.4 CAP_{Nuclear} + 507692.29 CAP_{Biomass} + 539800.14 CAP_{Coal} + 113290.07 CAP_{Gas-CC} + 96857.61 CAP_{Gas-CT} + 9.40426 GEN_{Nuclear,1} + 9.40426 GEN_{Nuclear,2} + 9.40426 GEN_{Nuclear,3} + 9.40426 GEN_{Nuclear,4} + 9.40426 GEN_{Nuclear,5} + 9.40426 GEN_{Nuclear,6} + 9.40426 GEN_{Nuclear,7} + 9.40426 GEN_{Nuclear,8} + 9.40426 GEN_{Nuclear,9} + 9.40426 GEN_{Nuclear,10} + 9.40426 GEN_{Nuclear,11} + 9.40426 GEN_{Nuclear,12} + 9.40426 GEN_{Nuclear,13} + 9.40426 GEN_{Nuclear,14} + 9.40426 GEN_{Nuclear,15} + 9.40426 GEN_{Nuclear,16} + 9.40426 GEN_{Nuclear,17} + 9.40426 GEN_{Nuclear,18} + 9.40426 GEN_{Nuclear,19} + 9.40426 GEN_{Nuclear,20} + [[\\ldots\\text{52520 terms omitted}\\ldots]] + 1000 NSE_{8741} + 1000 NSE_{8742} + 1000 NSE_{8743} + 1000 NSE_{8744} + 1000 NSE_{8745} + 1000 NSE_{8746} + 1000 NSE_{8747} + 1000 NSE_{8748} + 1000 NSE_{8749} + 1000 NSE_{8750} + 1000 NSE_{8751} + 1000 NSE_{8752} + 1000 NSE_{8753} + 1000 NSE_{8754} + 1000 NSE_{8755} + 1000 NSE_{8756} + 1000 NSE_{8757} + 1000 NSE_{8758} + 1000 NSE_{8759} + 1000 NSE_{8760} + 0.06394347964519903 CO2_{OnshoreWind} + 0.06394347964519903 CO2_{OffshoreWind} + 0.06394347964519903 CO2_{Solar} + 0.06394347964519903 CO2_{Hydro-Dam} + 0.06394347964519903 CO2_{Hydro-RoR} + 0.06394347964519903 CO2_{Nuclear} + 0.06394347964519903 CO2_{Biomass} + 0.06394347964519903 CO2_{Coal} + 0.06394347964519903 CO2_{Gas-CC} + 0.06394347964519903 CO2_{Gas-CT} $"
      ],
      "text/plain": [
       "123739.12 CAP[OnshoreWind] + 401212.37 CAP[OffshoreWind] + 106981.4 CAP[Solar] + 704816.38 CAP[Hydro-Dam] + 570804.12 CAP[Hydro-RoR] + 771658.4 CAP[Nuclear] + 507692.29 CAP[Biomass] + 539800.14 CAP[Coal] + 113290.07 CAP[Gas-CC] + 96857.61 CAP[Gas-CT] + 9.40426 GEN[Nuclear,1] + 9.40426 GEN[Nuclear,2] + 9.40426 GEN[Nuclear,3] + 9.40426 GEN[Nuclear,4] + 9.40426 GEN[Nuclear,5] + 9.40426 GEN[Nuclear,6] + 9.40426 GEN[Nuclear,7] + 9.40426 GEN[Nuclear,8] + 9.40426 GEN[Nuclear,9] + 9.40426 GEN[Nuclear,10] + 9.40426 GEN[Nuclear,11] + 9.40426 GEN[Nuclear,12] + 9.40426 GEN[Nuclear,13] + 9.40426 GEN[Nuclear,14] + 9.40426 GEN[Nuclear,15] + 9.40426 GEN[Nuclear,16] + 9.40426 GEN[Nuclear,17] + 9.40426 GEN[Nuclear,18] + 9.40426 GEN[Nuclear,19] + 9.40426 GEN[Nuclear,20] + [[...52520 terms omitted...]] + 1000 NSE[8741] + 1000 NSE[8742] + 1000 NSE[8743] + 1000 NSE[8744] + 1000 NSE[8745] + 1000 NSE[8746] + 1000 NSE[8747] + 1000 NSE[8748] + 1000 NSE[8749] + 1000 NSE[8750] + 1000 NSE[8751] + 1000 NSE[8752] + 1000 NSE[8753] + 1000 NSE[8754] + 1000 NSE[8755] + 1000 NSE[8756] + 1000 NSE[8757] + 1000 NSE[8758] + 1000 NSE[8759] + 1000 NSE[8760] + 0.06394347964519903 CO2[OnshoreWind] + 0.06394347964519903 CO2[OffshoreWind] + 0.06394347964519903 CO2[Solar] + 0.06394347964519903 CO2[Hydro-Dam] + 0.06394347964519903 CO2[Hydro-RoR] + 0.06394347964519903 CO2[Nuclear] + 0.06394347964519903 CO2[Biomass] + 0.06394347964519903 CO2[Coal] + 0.06394347964519903 CO2[Gas-CC] + 0.06394347964519903 CO2[Gas-CT]"
      ]
     },
     "metadata": {},
     "output_type": "display_data"
    }
   ],
   "source": [
    "ThirdExpansionModel = Model(Gurobi.Optimizer)\n",
    "@variables(ThirdExpansionModel,begin\n",
    "    CAP[g in G] >= 0\n",
    "    GEN[g in G, h in H] >= 0\n",
    "    NSE[h in H] >= 0\n",
    "    CO2[g in G] >= 0\n",
    "end);\n",
    "\n",
    "@constraints(ThirdExpansionModel,begin\n",
    "    demandBalance[h in H], sum(GEN[g,h] for g in G) + NSE[h] == D[h]\n",
    "    capacityBound[g in G_conv, h in H], GEN[g,h] <= CAP[g]*gen_data[\"CapacityFactor\"][g]\n",
    "    capacityBoundRVE[g in G_erv, h in H], GEN[g,h] <= CAP[g]*capacity_factors[g][h]\n",
    "    #CO2Constraint, sum(gen_data[\"CO2\"][g]*gen_data[\"HeatRate\"][g]*GEN[g,h] for g in G, h in H) <= total_co2 * 0.5\n",
    "    CO2Emissions[g in G], CO2[g] >= sum(gen_data[\"CO2\"][g]*gen_data[\"HeatRate\"][g]*GEN[g,h] for h in H)\n",
    "end)\n",
    "\n",
    "@objective(ThirdExpansionModel,Min,sum((gen_data[\"CAPEX\"][g]+gen_data[\"OM\"][g])*CAP[g] for g in G) + sum((gen_data[\"FuelCost\"][g]*gen_data[\"HeatRate\"][g]+gen_data[\"VarOM\"][g])*GEN[g,h] for g in G, h in H) + sum(VoLL*NSE[h] for h in H)\n",
    "+ sum(CO2price*CO2[g] for g in G))"
   ]
  },
  {
   "cell_type": "code",
   "execution_count": 53,
   "metadata": {},
   "outputs": [
    {
     "name": "stdout",
     "output_type": "stream",
     "text": [
      "Gurobi Optimizer version 11.0.0 build v11.0.0rc2 (win64 - Windows 11+.0 (22631.2))\r\n",
      "\r\n",
      "CPU model: 13th Gen Intel(R) Core(TM) i7-1360P, instruction set [SSE2|AVX|AVX2]\r\n",
      "Thread count: 12 physical cores, 16 logical processors, using up to 16 threads\r\n",
      "\r\n",
      "Optimize a model with 96370 rows, 96380 columns and 294252 nonzeros\r\n",
      "Coefficient statistics:\r\n",
      "  Matrix range     [1e-04, 2e+03]\r\n",
      "  Objective range  [6e-02, 8e+05]\r\n",
      "  Bounds range     [0e+00, 0e+00]\r\n",
      "  RHS range        [3e+04, 9e+04]\r\n",
      "\r\n",
      "Solved in 0 iterations and 0.00 seconds (0.00 work units)\r\n",
      "Optimal objective  3.443292588e+10\r\n",
      "\r\n",
      "User-callback calls 15, time in user-callback 0.00 sec\r\n"
     ]
    }
   ],
   "source": [
    "optimize!(ThirdExpansionModel)"
   ]
  },
  {
   "cell_type": "code",
   "execution_count": 54,
   "metadata": {},
   "outputs": [
    {
     "data": {
      "text/plain": [
       "1-dimensional DenseAxisArray{Float64,1,...} with index sets:\n",
       "    Dimension 1, String15[\"OnshoreWind\", \"OffshoreWind\", \"Solar\", \"Hydro-Dam\", \"Hydro-RoR\", \"Nuclear\", \"Biomass\", \"Coal\", \"Gas-CC\", \"Gas-CT\"]\n",
       "And data, a 10-element Vector{Float64}:\n",
       " 105753.65344467641\n",
       "      0.0\n",
       "      0.0\n",
       "      0.0\n",
       "      0.0\n",
       "      0.0\n",
       "      0.0\n",
       "      0.0\n",
       "  53108.122755741126\n",
       "  10113.173277661797"
      ]
     },
     "metadata": {},
     "output_type": "display_data"
    }
   ],
   "source": [
    "value.(CAP)"
   ]
  }
 ],
 "metadata": {
  "kernelspec": {
   "display_name": "Julia 1.9.3",
   "language": "julia",
   "name": "julia-1.9"
  },
  "language_info": {
   "file_extension": ".jl",
   "mimetype": "application/julia",
   "name": "julia",
   "version": "1.9.3"
  }
 },
 "nbformat": 4,
 "nbformat_minor": 2
}
