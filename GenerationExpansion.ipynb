{
 "cells": [
  {
   "cell_type": "markdown",
   "metadata": {},
   "source": [
    "# Power System Planning Project"
   ]
  },
  {
   "cell_type": "code",
   "execution_count": 27,
   "metadata": {},
   "outputs": [
    {
     "data": {
      "text/plain": [
       "120"
      ]
     },
     "metadata": {},
     "output_type": "display_data"
    }
   ],
   "source": [
    "using DataFrames, CSV, Plots, JuMP, Statistics, HiGHS\n",
    "import Dates\n",
    "ENV[\"ROWS\"]=120"
   ]
  },
  {
   "cell_type": "markdown",
   "metadata": {},
   "source": [
    "## TMY Calculation\n",
    "\n",
    "The following section shows how the hourly capacity factors were obtained for onshore wind, offshore wind and solar. By using the time series available at Open Power Systems Data for UK, the hourly capacity factors of these technologies are obtained. Then, for each of the technologies:\n",
    "- We take the monthly average of the capacity factor, capturing the long term tendency of the values.\n",
    "- For each month, we take the average of each year of the available data. If there is an hour from that month, in that year, that has no data, then that year is not considered for the analysis for the month in particular.\n",
    "    - The average of each year is computed, so, for each month, we have a list with the average capacity factor for each year during that month.\n",
    "- We compare the long term tendency (average year) with the average of each month. The month with the lowest deviation from the average is chosen, and that month is the reference month for the typical year.\n",
    "\n",
    "This allows to get a year created from the available years that capture the averga behaviour, but taking into account variability throughout the days, as opposed of using an average value for capacity factors.\n",
    "\n",
    "_Open Power System Data. 2020. Data Package Time series. Version 2020-10-06. [https://doi.org/10.25832/time_series/2020-10-06](https://doi.org/10.25832/time_series/2020-10-06) (Primary data from various sources, for a complete list see URL)._\n",
    "    "
   ]
  },
  {
   "cell_type": "code",
   "execution_count": 2,
   "metadata": {},
   "outputs": [
    {
     "ename": "UndefVarError",
     "evalue": "UndefVarError: `Dates` not defined",
     "output_type": "error",
     "traceback": [
      "UndefVarError: `Dates` not defined\n",
      "\n",
      "Stacktrace:\n",
      " [1] top-level scope\n",
      "   @ c:\\Users\\nacho\\Desktop\\Imperial College\\Spring Term\\Power System Planning\\PowerSystemPlanning_CW\\GenerationExpansion.ipynb:7"
     ]
    }
   ],
   "source": [
    "timeseries = CSV.read(\"Data/time_series_60min_singleindex.csv\", DataFrame)\n",
    "columns = names(timeseries)\n",
    "to_keep = columns[occursin.(\"GB\",columns) .& occursin.(\"profile\",columns) .& (occursin.(\"wind\",columns) .| occursin.(\"solar\",columns))]\n",
    "to_keep_ts = vcat(columns[1], to_keep)\n",
    "\n",
    "timeseries = timeseries[!,to_keep_ts]\n",
    "CSV.write(\"Data/timeseries_uk_erv.csv\", timeseries)\n",
    "\n",
    "#We'll create a TMY with the Solar data, Onshore wind data and offshore data\n",
    "timeseries[!,\"timestamp\"] = Dates.DateTime.(timeseries[!,\"utc_timestamp\"],\"yyyy-mm-ddTHH:MM:SSZ\");\n",
    "# We filter the data so we don't have missing values anywhere\n",
    "timeseries_dict = Dict()\n",
    "#for column in to_keep\n",
    "#    timeseries_dict[column] = timeseries[.!ismissing.(timeseries[!,column]),[\"timestamp\",column]]\n",
    "#end\n",
    "for column in to_keep\n",
    "    timeseries_dict[column] = timeseries[!,[\"timestamp\",column]]\n",
    "    #timeseries_dict[column] = timeseries_dict[column][.!ismissing.(timeseries_dict[column][!,column]),:]\n",
    "end\n",
    "\n",
    "# From each date, we save the year, month, day and hour, as the data is hourly\n",
    "for column in to_keep\n",
    "    timeseries_dict[column][!,\"year\"] = Dates.year.(timeseries_dict[column][!,\"timestamp\"])\n",
    "    timeseries_dict[column][!,\"month\"] = Dates.month.(timeseries_dict[column][!,\"timestamp\"])\n",
    "    timeseries_dict[column][!,\"day\"] = Dates.day.(timeseries_dict[column][!,\"timestamp\"])\n",
    "    timeseries_dict[column][!,\"hour\"] = Dates.hour.(timeseries_dict[column][!,\"timestamp\"])\n",
    "    timeseries_dict[column][!,\"missing\"] = ismissing.(timeseries_dict[column][!,column])\n",
    "end\n",
    "\n",
    "long_term_data = Dict()\n",
    "long_term_year = Dict()\n",
    "# Now, we group by month and day so we can get the average capacity factor\n",
    "for element in timeseries_dict\n",
    "    name, df = element\n",
    "    df = element[2];\n",
    "    gdf = groupby(df, [:month, :year])\n",
    "    gdf = combine(gdf, name .=> mean => name)\n",
    "    long_term_data[name] = gdf\n",
    "\n",
    "    df = gdf;\n",
    "    gdf = groupby(df, :month)\n",
    "    gdf = combine(gdf, name .=> mean => name)\n",
    "    long_term_year[name] = gdf\n",
    "end\n",
    "\n",
    "#upper, lower = max(long_term_data[\"GB_GBN_solar_profile\"][!,:year]...),min(long_term_data[\"GB_GBN_solar_profile\"][!,:year]...)\n",
    "#upper, lower = 2018, 2015\n",
    "#years = upper-lower;\n"
   ]
  },
  {
   "cell_type": "code",
   "execution_count": 3,
   "metadata": {},
   "outputs": [
    {
     "ename": "UndefVarError",
     "evalue": "UndefVarError: `timeseries_dict` not defined",
     "output_type": "error",
     "traceback": [
      "UndefVarError: `timeseries_dict` not defined\n",
      "\n",
      "Stacktrace:\n",
      " [1] top-level scope\n",
      "   @ c:\\Users\\nacho\\Desktop\\Imperial College\\Spring Term\\Power System Planning\\PowerSystemPlanning_CW\\GenerationExpansion.ipynb:1"
     ]
    }
   ],
   "source": [
    "u = timeseries_dict[\"GB_GBN_solar_profile\"]"
   ]
  },
  {
   "cell_type": "code",
   "execution_count": 4,
   "metadata": {},
   "outputs": [
    {
     "ename": "UndefVarError",
     "evalue": "UndefVarError: `timeseries_dict` not defined",
     "output_type": "error",
     "traceback": [
      "UndefVarError: `timeseries_dict` not defined\n",
      "\n",
      "Stacktrace:\n",
      " [1] top-level scope\n",
      "   @ c:\\Users\\nacho\\Desktop\\Imperial College\\Spring Term\\Power System Planning\\PowerSystemPlanning_CW\\GenerationExpansion.ipynb:2"
     ]
    }
   ],
   "source": [
    "monthly_avg = Dict()\n",
    "for element in timeseries_dict\n",
    "    name, df = element\n",
    "    avgs = []\n",
    "    valid_years_list =[]\n",
    "    for k in 1:12\n",
    "        # Determine month with missing data\n",
    "        monthly_df = groupby(df[df.month.==k,:],:year)\n",
    "        monthly_df = combine(monthly_df, \"missing\" .=> sum => \"missing\")\n",
    "        valid_years = monthly_df[monthly_df[!,\"missing\"] .== 0,:year]\n",
    "        avg = mean(df[(df.month.==k) .& (df.year .∈ Ref(valid_years)),name])\n",
    "        push!(avgs,avg)\n",
    "        push!(valid_years_list,valid_years)\n",
    "    end\n",
    "    monthly_avg[name] = avgs\n",
    "    monthly_avg[name*\"_years\"] = valid_years_list\n",
    "end\n",
    "\n",
    "avg_data = Dict()\n",
    "for element in timeseries_dict\n",
    "    name, df = element\n",
    "    avg_matrix = []\n",
    "    for k in 1:12\n",
    "        monthly_df = groupby(df[df.month.==k,:],:year)\n",
    "        monthly_df = combine(monthly_df, \"missing\" .=> sum => \"missing\")\n",
    "        valid_years = monthly_df[monthly_df[!,\"missing\"] .== 0,:year]\n",
    "        yearly_means = []\n",
    "        for j in valid_years\n",
    "            yearly_mean = mean(df[(df.month.==k) .& (df.year.==j),name])\n",
    "            push!(yearly_means,yearly_mean)\n",
    "        end\n",
    "        push!(avg_matrix,yearly_means)\n",
    "    end\n",
    "    avg_data[name] = avg_matrix\n",
    "end\n"
   ]
  },
  {
   "cell_type": "code",
   "execution_count": 5,
   "metadata": {},
   "outputs": [
    {
     "ename": "KeyError",
     "evalue": "KeyError: key \"GB_GBN_solar_profile_years\" not found",
     "output_type": "error",
     "traceback": [
      "KeyError: key \"GB_GBN_solar_profile_years\" not found\n",
      "\n",
      "Stacktrace:\n",
      " [1] getindex(h::Dict{Any, Any}, key::String)\n",
      "   @ Base .\\dict.jl:498\n",
      " [2] top-level scope\n",
      "   @ c:\\Users\\nacho\\Desktop\\Imperial College\\Spring Term\\Power System Planning\\PowerSystemPlanning_CW\\GenerationExpansion.ipynb:1"
     ]
    }
   ],
   "source": [
    "monthly_avg[\"GB_GBN_solar_profile_years\"]"
   ]
  },
  {
   "cell_type": "code",
   "execution_count": 6,
   "metadata": {},
   "outputs": [
    {
     "ename": "UndefVarError",
     "evalue": "UndefVarError: `avg_data` not defined",
     "output_type": "error",
     "traceback": [
      "UndefVarError: `avg_data` not defined\n",
      "\n",
      "Stacktrace:\n",
      " [1] top-level scope\n",
      "   @ c:\\Users\\nacho\\Desktop\\Imperial College\\Spring Term\\Power System Planning\\PowerSystemPlanning_CW\\GenerationExpansion.ipynb:2"
     ]
    }
   ],
   "source": [
    "TMYS = Dict()\n",
    "for element in avg_data\n",
    "    name, matrix = element\n",
    "    best_value = monthly_avg[name]\n",
    "    df = timeseries_dict[name][!,[name, \"month\", \"year\",\"day\",\"hour\"]]\n",
    "    TMY = DataFrame([[],[],[],[],[]], [name,\"year\",\"month\",\"day\",\"hour\"])\n",
    "    best_years = []\n",
    "    years_lookup = monthly_avg[name*\"_years\"]\n",
    "    for k in 1:12\n",
    "        error = abs.(matrix[k].-best_value[k])\n",
    "        best_year_index = findall(x->x==min(error...), error)\n",
    "        best_year = years_lookup[k][best_year_index[1]]\n",
    "        best_year_df = df[(df.month.==k) .& (df.year.==best_year),[name,\"year\",\"month\",\"day\",\"hour\"]]\n",
    "        TMY = vcat(TMY,best_year_df)\n",
    "        push!(best_years,best_year)\n",
    "    end\n",
    "    # Set every timestamp to 2023\n",
    "    TMY[!,\"timestamp\"] = Dates.DateTime.(\"2023\".*\"-\".*string.(TMY[!,\"month\"]).*\"-\".*string.(TMY[!,\"day\"]).*\"T\".*string.(TMY[!,\"hour\"]).*\":00:00\",\"yyyy-mm-ddTHH:MM:SS\");\n",
    "    TMYS[name] = TMY[!,[\"timestamp\",name,\"month\"]]\n",
    "    #CSV.write(\"TMY_\"*name*\".csv\", TMY)\n",
    "end\n",
    "\n"
   ]
  },
  {
   "cell_type": "code",
   "execution_count": 7,
   "metadata": {},
   "outputs": [
    {
     "ename": "MethodError",
     "evalue": "MethodError: no method matching innerjoin(; on::Symbol)\n\nClosest candidates are:\n  innerjoin(!Matched::AbstractDataFrame, !Matched::AbstractDataFrame; on, makeunique, validate, renamecols, matchmissing, order)\n   @ DataFrames C:\\Users\\nacho\\.julia\\packages\\DataFrames\\58MUJ\\src\\join\\composer.jl:756\n  innerjoin(!Matched::AbstractDataFrame, !Matched::AbstractDataFrame, !Matched::AbstractDataFrame...; on, makeunique, validate, matchmissing, order)\n   @ DataFrames C:\\Users\\nacho\\.julia\\packages\\DataFrames\\58MUJ\\src\\join\\composer.jl:773\n",
     "output_type": "error",
     "traceback": [
      "MethodError: no method matching innerjoin(; on::Symbol)\n",
      "\n",
      "Closest candidates are:\n",
      "  innerjoin(!Matched::AbstractDataFrame, !Matched::AbstractDataFrame; on, makeunique, validate, renamecols, matchmissing, order)\n",
      "   @ DataFrames C:\\Users\\nacho\\.julia\\packages\\DataFrames\\58MUJ\\src\\join\\composer.jl:756\n",
      "  innerjoin(!Matched::AbstractDataFrame, !Matched::AbstractDataFrame, !Matched::AbstractDataFrame...; on, makeunique, validate, matchmissing, order)\n",
      "   @ DataFrames C:\\Users\\nacho\\.julia\\packages\\DataFrames\\58MUJ\\src\\join\\composer.jl:773\n",
      "\n",
      "\n",
      "Stacktrace:\n",
      " [1] top-level scope\n",
      "   @ c:\\Users\\nacho\\Desktop\\Imperial College\\Spring Term\\Power System Planning\\PowerSystemPlanning_CW\\GenerationExpansion.ipynb:7"
     ]
    }
   ],
   "source": [
    "toCSVdict = []\n",
    "for element in TMYS\n",
    "    name, df = element\n",
    "    push!(toCSVdict,df[!,[\"timestamp\",name]])\n",
    "end\n",
    "\n",
    "innerjoin(toCSVdict..., on=:timestamp) |> CSV.write(\"Data/TMY_uk_erv.csv\")"
   ]
  },
  {
   "cell_type": "code",
   "execution_count": 8,
   "metadata": {},
   "outputs": [
    {
     "ename": "UndefVarError",
     "evalue": "UndefVarError: `long_term_year` not defined",
     "output_type": "error",
     "traceback": [
      "UndefVarError: `long_term_year` not defined\n",
      "\n",
      "Stacktrace:\n",
      " [1] top-level scope\n",
      "   @ c:\\Users\\nacho\\Desktop\\Imperial College\\Spring Term\\Power System Planning\\PowerSystemPlanning_CW\\GenerationExpansion.ipynb:2"
     ]
    }
   ],
   "source": [
    "plots = []\n",
    "for element in long_term_year\n",
    "    name, df = element\n",
    "    df_tmy = TMYS[name]\n",
    "    df_raw = timeseries_dict[name]\n",
    "    df_tmy = groupby(df_tmy, :month)\n",
    "    df_tmy = combine(df_tmy, name .=> mean => name)\n",
    "    display_parts = titlecase.(split(name,\"_\"));\n",
    "    display_name = join(display_parts[3:end],\" \");\n",
    "    plot(df[!,:month],df[!,name],label=\"Long Term\",color=\"orange\",legend=:topleft, title=display_name)\n",
    "    for k in lower:upper\n",
    "        df_year = df_raw[df_raw.year.==k,:]\n",
    "        df_year = groupby(df_year, :month)\n",
    "        df_year = combine(df_year, name .=> mean => name)\n",
    "        plot!(df_year[!,:month],df_year[!,name],label=\"\", color=\"blue\", alpha=0.25)\n",
    "    end\n",
    "    p=plot!(df_tmy[!,:month],df_tmy[!,name],label=\"TMY\", color=\"green\")\n",
    "    push!(plots,p)\n",
    "end\n",
    "plot(plots..., layout=(4,1), size=(1000,1000), yformatter=y->string(trunc(Int,100*y))*\"%\", show=true)\n",
    "xticks!(1:12,[\"Jan\",\"Feb\",\"Mar\",\"Apr\",\"May\",\"Jun\",\"Jul\",\"Aug\",\"Sep\",\"Oct\",\"Nov\",\"Dec\"])\n",
    "#savefig(\"Results/TMY_comparison.png\")"
   ]
  },
  {
   "cell_type": "code",
   "execution_count": 9,
   "metadata": {},
   "outputs": [
    {
     "ename": "KeyError",
     "evalue": "KeyError: key \"GB_GBN_solar_profile\" not found",
     "output_type": "error",
     "traceback": [
      "KeyError: key \"GB_GBN_solar_profile\" not found\n",
      "\n",
      "Stacktrace:\n",
      " [1] getindex(h::Dict{Any, Any}, key::String)\n",
      "   @ Base .\\dict.jl:498\n",
      " [2] top-level scope\n",
      "   @ c:\\Users\\nacho\\Desktop\\Imperial College\\Spring Term\\Power System Planning\\PowerSystemPlanning_CW\\GenerationExpansion.ipynb:1"
     ]
    }
   ],
   "source": [
    "groupby(TMYS[\"GB_GBN_solar_profile\"],:month)"
   ]
  },
  {
   "cell_type": "markdown",
   "metadata": {},
   "source": [
    "## Variable Definitions and Model"
   ]
  },
  {
   "cell_type": "markdown",
   "metadata": {},
   "source": [
    "### Model 0: Basecase\n",
    "#### Sets\n",
    "- $G$: set of available technologies\n",
    "- $H$: set of hours to be simulated\n",
    "#### Parameters\n",
    "- $cf_{i,t}$: capacity factor of generator $g\\in G$ in period $t \\in H$ [p.u.]\n",
    "- $CAPEX_g$: annuitized investment costs of generator $g\\in G$ [$\\$/\\text{MW-y}$]\n",
    "- $OM^F_{g}$: annuitized fixed operation and maintenance costs of generator $g \\in G$ [$\\$/\\text{MW-y}$]\n",
    "- $OM^V_{g}$: variable operation and maintenance cost of generator $g \\in G$ [$\\$/\\text{MWh}$]\n",
    "- $HR_{g}$: heat rate of generator $g \\in G$ [$\\text{MWh}/\\text{MMBTU}$]\n",
    "- $FC_{g}$: fuel cost of generator $g \\in G$ [$\\$/\\text{MMBTU}$]\n",
    "- $D_{t}$: electricity demand during hour $t \\in H$ [$\\text{MWh}$]\n",
    "- $VoLL$: value of lost load. Payment done for each MWh of unserved energy [$\\$/\\text{MWh}$]\n",
    "#### Variables\n",
    "- $GEN_{g,t}$: generation of generator $g \\in G$ in period $t \\in H$\n",
    "- $CAP_{g}$: installed capacity of generator $g \\in G$\n",
    "- $NSE_{t}$: energy non-served in period $t\\in H$\n",
    "\n",
    "#### Constraints\n",
    "- Demand balance: the energy generated plus the non-served demand must be equal to the demand at all time.\n",
    "$$\\sum_{g \\in G} GEN_{g,t}+NSE_{t} = D_t \\quad \\forall \\, t\\in H$$\n",
    "- Capacity limits: the energy generated by each generator cannot exceed its installed capacity, times the capacity factor.\n",
    "$$GEN_{g,t} \\leq CAP_{g}\\cdot cf_{g,t} \\quad \\forall \\, t\\in H,\\,g \\in G$$\n",
    "\n",
    "#### Objective Function\n",
    "The objective of the problem is to minimise the operation, investment and unserved energy throughout the period\n",
    "\n",
    "$$\\underset{CAP, GEN, NSE}{\\min} \\underbrace{\\sum_{g \\in G} \\left(CAPEX_g+OM^F_g\\right)CAP_g}_{\\text{Investment Costs}} + \\underbrace{\\sum_{g \\in G}\\sum_{t \\in H}\\left(FC_g\\cdot HR_g + OM^V_g\\right)GEN_{g,t}}_{\\text{Operation Costs}} + \\underbrace{\\sum_{t \\in H}VoLL\\cdot NSE_t}_{\\text{Unserved Energy Costs}}$$"
   ]
  },
  {
   "cell_type": "code",
   "execution_count": 10,
   "metadata": {},
   "outputs": [],
   "source": [
    "generators = CSV.read(\"Data/CostsData.csv\",DataFrame);\n",
    "G = generators.Gen;\n",
    "\n",
    "# Separate the generators into renewable and conventional\n",
    "G_erv = G[occursin.(\"Wind\",G) .| occursin.(\"Solar\",G)];\n",
    "G_conv = G[G.∉ Ref(G_erv)];\n",
    "\n",
    "# We want to select the columns that do work for us. We will remove those in kW\n",
    "columns = names(generators)\n",
    "to_use = columns[.!occursin.(\"KW\",columns) .& .!occursin.(\"Gen\",columns)]\n",
    "\n",
    "gen_data = Dict()\n",
    "for column in to_use\n",
    "    colname = split(column)[1]\n",
    "    gen_data[colname] = JuMP.Containers.DenseAxisArray(generators[!,column],G)\n",
    "end"
   ]
  },
  {
   "cell_type": "code",
   "execution_count": 11,
   "metadata": {},
   "outputs": [],
   "source": [
    "demand = CSV.read(\"Data/demanddata_Hourly.csv\",DataFrame);\n",
    "D = demand.ND;"
   ]
  },
  {
   "cell_type": "code",
   "execution_count": 12,
   "metadata": {},
   "outputs": [
    {
     "data": {
      "text/plain": [
       "1:8760"
      ]
     },
     "metadata": {},
     "output_type": "display_data"
    }
   ],
   "source": [
    "H = 1:length(D)"
   ]
  },
  {
   "cell_type": "code",
   "execution_count": 13,
   "metadata": {},
   "outputs": [],
   "source": [
    "cap_df = CSV.read(\"Data/TMY_uk_erv.csv\",DataFrame);\n",
    "names_x = names(cap_df);\n",
    "for gen in G_erv\n",
    "    if occursin(\"Solar\",gen)\n",
    "        tech = \"solar\"\n",
    "    else\n",
    "        tech = lowercase(split(gen,\"W\")[1])\n",
    "    end\n",
    "    for name in names_x\n",
    "        if occursin(tech,name)\n",
    "            rename!(cap_df, name => gen)\n",
    "            names_x = names(cap_df)\n",
    "        end\n",
    "    end\n",
    "\n",
    "end\n",
    "\n",
    "cap_df = cap_df[!,G_erv];\n",
    "capacity_factors = Dict()\n",
    "for column in names(cap_df)\n",
    "   capacity_factors[column] = JuMP.Containers.DenseAxisArray(cap_df[!,column],H)\n",
    "end\n",
    "\n",
    "VoLL = 1000;"
   ]
  },
  {
   "cell_type": "code",
   "execution_count": 14,
   "metadata": {},
   "outputs": [
    {
     "ename": "UndefVarError",
     "evalue": "UndefVarError: `Gurobi` not defined",
     "output_type": "error",
     "traceback": [
      "UndefVarError: `Gurobi` not defined\n",
      "\n",
      "Stacktrace:\n",
      " [1] top-level scope\n",
      "   @ c:\\Users\\nacho\\Desktop\\Imperial College\\Spring Term\\Power System Planning\\PowerSystemPlanning_CW\\GenerationExpansion.ipynb:1"
     ]
    }
   ],
   "source": [
    "FirstExpansionModel = Model(Gurobi.Optimizer)\n",
    "@variables(FirstExpansionModel,begin\n",
    "    CAP[g in G] >= 0\n",
    "    GEN[g in G, h in H] >= 0\n",
    "    NSE[h in H] >= 0\n",
    "end);\n",
    "\n",
    "@constraints(FirstExpansionModel,begin\n",
    "    demandBalance[h in H], sum(GEN[g,h] for g in G) + NSE[h] == D[h]\n",
    "    capacityBound[g in G_conv, h in H], GEN[g,h] <= CAP[g]*gen_data[\"CapacityFactor\"][g]\n",
    "    capacityBoundRVE[g in G_erv, h in H], GEN[g,h] <= CAP[g]*capacity_factors[g][h]\n",
    "end)\n",
    "\n",
    "@objective(FirstExpansionModel,Min,sum((gen_data[\"CAPEX\"][g]+gen_data[\"OM\"][g])*CAP[g] for g in G) + sum((gen_data[\"FuelCost\"][g]*gen_data[\"HeatRate\"][g]+gen_data[\"VarOM\"][g])*GEN[g,h] for g in G, h in H) + sum(VoLL*NSE[h] for h in H))"
   ]
  },
  {
   "cell_type": "code",
   "execution_count": 15,
   "metadata": {},
   "outputs": [
    {
     "data": {
      "text/plain": [
       "87809"
      ]
     },
     "metadata": {},
     "output_type": "display_data"
    }
   ],
   "source": [
    "maximum(D)"
   ]
  },
  {
   "cell_type": "code",
   "execution_count": 16,
   "metadata": {},
   "outputs": [
    {
     "ename": "UndefVarError",
     "evalue": "UndefVarError: `FirstExpansionModel` not defined",
     "output_type": "error",
     "traceback": [
      "UndefVarError: `FirstExpansionModel` not defined\n",
      "\n",
      "Stacktrace:\n",
      " [1] top-level scope\n",
      "   @ c:\\Users\\nacho\\Desktop\\Imperial College\\Spring Term\\Power System Planning\\PowerSystemPlanning_CW\\GenerationExpansion.ipynb:1"
     ]
    }
   ],
   "source": [
    "optimize!(FirstExpansionModel)"
   ]
  },
  {
   "cell_type": "code",
   "execution_count": 17,
   "metadata": {},
   "outputs": [
    {
     "ename": "UndefVarError",
     "evalue": "UndefVarError: `GEN` not defined",
     "output_type": "error",
     "traceback": [
      "UndefVarError: `GEN` not defined\n",
      "\n",
      "Stacktrace:\n",
      " [1] top-level scope\n",
      "   @ c:\\Users\\nacho\\Desktop\\Imperial College\\Spring Term\\Power System Planning\\PowerSystemPlanning_CW\\GenerationExpansion.ipynb:1"
     ]
    }
   ],
   "source": [
    "generation = value.(GEN).data*ones(8760,1)\n",
    "total_generation = JuMP.Containers.DenseAxisArray(generation[:],G)\n",
    "total_co2 = sum(gen_data[\"CO2\"][g]*gen_data[\"HeatRate\"][g]*total_generation[g] for g in G)"
   ]
  },
  {
   "cell_type": "code",
   "execution_count": 18,
   "metadata": {},
   "outputs": [
    {
     "ename": "UndefVarError",
     "evalue": "UndefVarError: `Gurobi` not defined",
     "output_type": "error",
     "traceback": [
      "UndefVarError: `Gurobi` not defined\n",
      "\n",
      "Stacktrace:\n",
      " [1] top-level scope\n",
      "   @ c:\\Users\\nacho\\Desktop\\Imperial College\\Spring Term\\Power System Planning\\PowerSystemPlanning_CW\\GenerationExpansion.ipynb:1"
     ]
    }
   ],
   "source": [
    "SecondExpansionModel = Model(Gurobi.Optimizer)\n",
    "@variables(SecondExpansionModel,begin\n",
    "    CAP[g in G] >= 0\n",
    "    GEN[g in G, h in H] >= 0\n",
    "    NSE[h in H] >= 0\n",
    "end);\n",
    "\n",
    "@constraints(SecondExpansionModel,begin\n",
    "    demandBalance[h in H], sum(GEN[g,h] for g in G) + NSE[h] == D[h]\n",
    "    capacityBound[g in G_conv, h in H], GEN[g,h] <= CAP[g]*gen_data[\"CapacityFactor\"][g]\n",
    "    capacityBoundRVE[g in G_erv, h in H], GEN[g,h] <= CAP[g]*capacity_factors[g][h]\n",
    "    CO2Constraint, sum(gen_data[\"CO2\"][g]*gen_data[\"HeatRate\"][g]*GEN[g,h] for g in G, h in H) <= total_co2 * 0.5\n",
    "end)\n",
    "\n",
    "@objective(SecondExpansionModel,Min,sum((gen_data[\"CAPEX\"][g]+gen_data[\"OM\"][g])*CAP[g] for g in G) + sum((gen_data[\"FuelCost\"][g]*gen_data[\"HeatRate\"][g]+gen_data[\"VarOM\"][g])*GEN[g,h] for g in G, h in H) + sum(VoLL*NSE[h] for h in H))"
   ]
  },
  {
   "cell_type": "code",
   "execution_count": 19,
   "metadata": {},
   "outputs": [
    {
     "ename": "UndefVarError",
     "evalue": "UndefVarError: `SecondExpansionModel` not defined",
     "output_type": "error",
     "traceback": [
      "UndefVarError: `SecondExpansionModel` not defined\n",
      "\n",
      "Stacktrace:\n",
      " [1] top-level scope\n",
      "   @ c:\\Users\\nacho\\Desktop\\Imperial College\\Spring Term\\Power System Planning\\PowerSystemPlanning_CW\\GenerationExpansion.ipynb:1"
     ]
    }
   ],
   "source": [
    "optimize!(SecondExpansionModel)"
   ]
  },
  {
   "cell_type": "code",
   "execution_count": 20,
   "metadata": {},
   "outputs": [
    {
     "ename": "UndefVarError",
     "evalue": "UndefVarError: `CAP` not defined",
     "output_type": "error",
     "traceback": [
      "UndefVarError: `CAP` not defined\n",
      "\n",
      "Stacktrace:\n",
      " [1] top-level scope\n",
      "   @ c:\\Users\\nacho\\Desktop\\Imperial College\\Spring Term\\Power System Planning\\PowerSystemPlanning_CW\\GenerationExpansion.ipynb:1"
     ]
    }
   ],
   "source": [
    "display(value.(CAP))\n",
    "CO2price = abs(dual.(CO2Constraint));"
   ]
  },
  {
   "cell_type": "code",
   "execution_count": 21,
   "metadata": {},
   "outputs": [
    {
     "ename": "UndefVarError",
     "evalue": "UndefVarError: `Gurobi` not defined",
     "output_type": "error",
     "traceback": [
      "UndefVarError: `Gurobi` not defined\n",
      "\n",
      "Stacktrace:\n",
      " [1] top-level scope\n",
      "   @ c:\\Users\\nacho\\Desktop\\Imperial College\\Spring Term\\Power System Planning\\PowerSystemPlanning_CW\\GenerationExpansion.ipynb:1"
     ]
    }
   ],
   "source": [
    "ThirdExpansionModel = Model(Gurobi.Optimizer)\n",
    "@variables(ThirdExpansionModel,begin\n",
    "    CAP[g in G] >= 0\n",
    "    GEN[g in G, h in H] >= 0\n",
    "    NSE[h in H] >= 0\n",
    "    CO2[g in G] >= 0\n",
    "end);\n",
    "\n",
    "@constraints(ThirdExpansionModel,begin\n",
    "    demandBalance[h in H], sum(GEN[g,h] for g in G) + NSE[h] == D[h]\n",
    "    capacityBound[g in G_conv, h in H], GEN[g,h] <= CAP[g]*gen_data[\"CapacityFactor\"][g]\n",
    "    capacityBoundRVE[g in G_erv, h in H], GEN[g,h] <= CAP[g]*capacity_factors[g][h]\n",
    "    #CO2Constraint, sum(gen_data[\"CO2\"][g]*gen_data[\"HeatRate\"][g]*GEN[g,h] for g in G, h in H) <= total_co2 * 0.5\n",
    "    CO2Emissions[g in G], CO2[g] >= sum(gen_data[\"CO2\"][g]*gen_data[\"HeatRate\"][g]*GEN[g,h] for h in H)\n",
    "end)\n",
    "\n",
    "@objective(ThirdExpansionModel,Min,sum((gen_data[\"CAPEX\"][g]+gen_data[\"OM\"][g])*CAP[g] for g in G) + sum((gen_data[\"FuelCost\"][g]*gen_data[\"HeatRate\"][g]+gen_data[\"VarOM\"][g])*GEN[g,h] for g in G, h in H) + sum(VoLL*NSE[h] for h in H)\n",
    "+ sum(CO2price*CO2[g] for g in G))"
   ]
  },
  {
   "cell_type": "code",
   "execution_count": 22,
   "metadata": {},
   "outputs": [
    {
     "ename": "UndefVarError",
     "evalue": "UndefVarError: `ThirdExpansionModel` not defined",
     "output_type": "error",
     "traceback": [
      "UndefVarError: `ThirdExpansionModel` not defined\n",
      "\n",
      "Stacktrace:\n",
      " [1] top-level scope\n",
      "   @ c:\\Users\\nacho\\Desktop\\Imperial College\\Spring Term\\Power System Planning\\PowerSystemPlanning_CW\\GenerationExpansion.ipynb:1"
     ]
    }
   ],
   "source": [
    "optimize!(ThirdExpansionModel)"
   ]
  },
  {
   "cell_type": "code",
   "execution_count": 23,
   "metadata": {},
   "outputs": [
    {
     "ename": "UndefVarError",
     "evalue": "UndefVarError: `CAP` not defined",
     "output_type": "error",
     "traceback": [
      "UndefVarError: `CAP` not defined\n",
      "\n",
      "Stacktrace:\n",
      " [1] top-level scope\n",
      "   @ c:\\Users\\nacho\\Desktop\\Imperial College\\Spring Term\\Power System Planning\\PowerSystemPlanning_CW\\GenerationExpansion.ipynb:1"
     ]
    }
   ],
   "source": [
    "value.(CAP)"
   ]
  }
 ],
 "metadata": {
  "kernelspec": {
   "display_name": "Julia 1.10.2",
   "language": "julia",
   "name": "julia-1.10"
  },
  "language_info": {
   "file_extension": ".jl",
   "mimetype": "application/julia",
   "name": "julia",
   "version": "1.10.2"
  }
 },
 "nbformat": 4,
 "nbformat_minor": 2
}
