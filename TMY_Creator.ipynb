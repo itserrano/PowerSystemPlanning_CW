{
 "cells": [
  {
   "cell_type": "code",
   "execution_count": 7,
   "metadata": {},
   "outputs": [],
   "source": [
    "using JSON3, DataFrames, CSV, Dates, PlotlyJS, Statistics"
   ]
  },
  {
   "cell_type": "code",
   "execution_count": 12,
   "metadata": {},
   "outputs": [
    {
     "data": {
      "text/plain": [
       "\"Data/TMY.csv\""
      ]
     },
     "metadata": {},
     "output_type": "display_data"
    }
   ],
   "source": [
    "capacity_factors = CSV.read(\"Data/Capacity_Factors.csv\",DataFrame);\n",
    "cap_fac_spain = CSV.read(\"Data/EU_solar.csv\",DataFrame,header=3);\n",
    "cap_fac_spain.time = Dates.DateTime.(cap_fac_spain.time,\"yyyy-mm-dd HH:MM:SS\");\n",
    "rename!(cap_fac_spain, \"national\"=>\"solar-ES\");\n",
    "capacity_factors = innerjoin(capacity_factors,cap_fac_spain,on=:time);\n",
    "rename!(capacity_factors, \"time\"=>\"date_date\");\n",
    "capacity_factors.date_year = Dates.year.(capacity_factors.date_date);\n",
    "capacity_factors.date_month = Dates.month.(capacity_factors.date_date);\n",
    "capacity_factors.date_day = Dates.day.(capacity_factors.date_date);\n",
    "capacity_factors.date_hour = Dates.hour.(capacity_factors.date_date);\n",
    "columns = names(capacity_factors);\n",
    "\n",
    "to_keep = columns[.!occursin.(\"date\",columns)];\n",
    "date_columns = columns[columns.∉ Ref(to_keep)];\n",
    "\n",
    "cf = Dict()\n",
    "for col in to_keep\n",
    "    cf[col] = capacity_factors[!,[col;date_columns]]\n",
    "end\n",
    "\n",
    "long_term_data = Dict(); long_term_year = Dict()\n",
    "for element in cf\n",
    "    name, df = element\n",
    "    gdf = groupby(df, [:date_month, :date_year])\n",
    "    gdf = combine(gdf, name .=> mean => name)\n",
    "    long_term_data[name] = gdf\n",
    "\n",
    "    df = gdf;\n",
    "    gdf = groupby(df, :date_month)\n",
    "    gdf = combine(gdf, name .=> mean => name)\n",
    "    long_term_year[name] = gdf\n",
    "end\n",
    "\n",
    "monthly_avg = Dict()\n",
    "for element in cf\n",
    "    name, df = element\n",
    "    avgs = []\n",
    "    for k in 1:12\n",
    "        avg = mean(df[(df.date_month.==k),name])\n",
    "        push!(avgs,avg)\n",
    "    end\n",
    "    monthly_avg[name] = avgs\n",
    "end\n",
    "\n",
    "avg_data = Dict()\n",
    "for element in cf\n",
    "    name, df = element\n",
    "    avg_matrix = []\n",
    "    for k in 1:12\n",
    "        yearly_means = []\n",
    "        for j in 1980:2019\n",
    "            yearly_mean = mean(df[(df.date_month.==k) .& (df.date_year.==j),name])\n",
    "            push!(yearly_means,yearly_mean)\n",
    "        end\n",
    "        push!(avg_matrix,yearly_means)  \n",
    "    end\n",
    "    avg_data[name] = avg_matrix\n",
    "end\n",
    "\n",
    "cols = Dict()\n",
    "for element in avg_data\n",
    "    name, matrix = element\n",
    "    best_value = monthly_avg[name]\n",
    "    df = cf[name]\n",
    "    tmy_vector = []\n",
    "    best_years = []\n",
    "    for k in 1:12\n",
    "        error = abs.(matrix[k] .- best_value[k])\n",
    "        best_year_index = findall(x->x==min(error...),error)\n",
    "        best_year = 1980 + best_year_index[1] - 1\n",
    "        best_year_df = df[(df.date_month.==k) .& (df.date_year.==best_year),[name,:\"date_year\",\"date_month\",\"date_day\",\"date_hour\"]]\n",
    "        if (k==2)\n",
    "            best_year_df = best_year_df[best_year_df.date_day.<=28,:]\n",
    "        end\n",
    "        tmy_vector = [tmy_vector;best_year_df[!,name]]\n",
    "        push!(best_years,best_year)\n",
    "    end\n",
    "    cols[name] = tmy_vector\n",
    "end\n",
    "\n",
    "tmy = DataFrame(cols)\n",
    "CSV.write(\"Data/TMY.csv\",tmy)"
   ]
  },
  {
   "cell_type": "code",
   "execution_count": 88,
   "metadata": {},
   "outputs": [
    {
     "data": {
      "text/plain": [
       "350640-element Vector{Float64}:\n",
       " 0.4354\n",
       " 0.4337\n",
       " 0.4438\n",
       " 0.4694\n",
       " 0.5028\n",
       " 0.5306\n",
       " 0.5504\n",
       " 0.5644\n",
       " 0.574\n",
       " 0.5762\n",
       " ⋮\n",
       " 0.115\n",
       " 0.1382\n",
       " 0.1682\n",
       " 0.1984\n",
       " 0.2265\n",
       " 0.2562\n",
       " 0.2778\n",
       " 0.2959\n",
       " 0.3153"
      ]
     },
     "metadata": {},
     "output_type": "display_data"
    }
   ],
   "source": [
    "cf[\"offshore\"][!,\"offshore\"]"
   ]
  }
 ],
 "metadata": {
  "kernelspec": {
   "display_name": "Julia 1.10.2",
   "language": "julia",
   "name": "julia-1.10"
  },
  "language_info": {
   "file_extension": ".jl",
   "mimetype": "application/julia",
   "name": "julia",
   "version": "1.10.2"
  }
 },
 "nbformat": 4,
 "nbformat_minor": 2
}
